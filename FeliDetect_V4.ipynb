{
  "nbformat": 4,
  "nbformat_minor": 0,
  "metadata": {
    "colab": {
      "provenance": [],
      "mount_file_id": "15bllaT1UxYyVAZ7Bb_KuFzubM3iyiHSR",
      "authorship_tag": "ABX9TyOHwzpjRIOpNRDqwnsOQ7np"
    },
    "kernelspec": {
      "name": "python3",
      "display_name": "Python 3"
    },
    "language_info": {
      "name": "python"
    }
  },
  "cells": [
    {
      "cell_type": "markdown",
      "source": [
        "Imports"
      ],
      "metadata": {
        "id": "3CU09O8BGyaw"
      }
    },
    {
      "cell_type": "code",
      "execution_count": null,
      "metadata": {
        "id": "djF_JPSoFTKr"
      },
      "outputs": [],
      "source": [
        "from google.colab import drive\n",
        "import glob\n",
        "import numpy as np\n",
        "import pandas as pd\n",
        "import os\n",
        "from scipy.signal import stft\n",
        "import scipy.io.wavfile as wav\n",
        "from tqdm import tqdm\n",
        "from collections import defaultdict"
      ]
    },
    {
      "cell_type": "markdown",
      "source": [
        "Sets directory and pulls files"
      ],
      "metadata": {
        "id": "wHCQZ-EBHEFy"
      }
    },
    {
      "cell_type": "code",
      "source": [
        "drive.mount('/content/drive', force_remount=True)\n",
        "#change directory to ours\n",
        "currentdir = os.getcwd()\n",
        "print(currentdir)\n",
        "if (currentdir != \"/content/drive/.shortcut-targets-by-id/1YydIvgGXpybO4ZsE85TCIwj66s2vGuZJ/Cat Song Meter Recordings/FeliDetect Folder\"):\n",
        "  os.chdir(\"/content/drive/.shortcut-targets-by-id/1YydIvgGXpybO4ZsE85TCIwj66s2vGuZJ/Cat Song Meter Recordings/FeliDetect Folder\")\n",
        "\n",
        "file_list = glob.glob(\"*.wav\",  recursive=True)\n",
        "print(file_list)"
      ],
      "metadata": {
        "colab": {
          "base_uri": "https://localhost:8080/"
        },
        "id": "OiiUX4O4FcCA",
        "outputId": "b2ebebb4-abc3-4bab-9fcd-92e3aa96c6f1"
      },
      "execution_count": null,
      "outputs": [
        {
          "output_type": "stream",
          "name": "stdout",
          "text": [
            "Mounted at /content/drive\n",
            "/content\n",
            "['SMM07257_20221118_063302.wav']\n"
          ]
        }
      ]
    },
    {
      "cell_type": "markdown",
      "source": [
        "converts seconds to timestamp"
      ],
      "metadata": {
        "id": "56c5w-ZpHKZN"
      }
    },
    {
      "cell_type": "code",
      "source": [
        "def seconds_to_timestamp(seconds):\n",
        "    \"\"\"\n",
        "    Converts seconds to a timestamp in HH:MM:SS format, with seconds rounded to two decimal places.\n",
        "    \"\"\"\n",
        "    hours, remainder = divmod(seconds, 3600)\n",
        "    minutes, seconds = divmod(remainder, 60)\n",
        "    return f\"{int(hours):02}:{int(minutes):02}:{seconds:05.2f}\""
      ],
      "metadata": {
        "id": "QIuCEFbvGj3M"
      },
      "execution_count": null,
      "outputs": []
    },
    {
      "cell_type": "markdown",
      "source": [
        "finds events within magnitude and fequency threshold"
      ],
      "metadata": {
        "id": "mlBxQAGzHOMk"
      }
    },
    {
      "cell_type": "code",
      "source": [
        "def find_events_within_threshold(file_path, dataset, min_mag=3500, max_mag=10000, min_freq=15, max_freq=300, segment_duration=.1, time_threshold=5):\n",
        "    \"\"\"\n",
        "    Reads a WAV audio file, computes its STFT to find major magnitude events over time,\n",
        "    and stores events that exceed a magnitude threshold.\n",
        "\n",
        "    Parameters:\n",
        "    - file_path (str): Path to the WAV file.\n",
        "    - dataset (list): List of lists to store events ([file_path, start, end, magnitude, frequency, count]).\n",
        "    - min_mag (float): The magnitude minimum for event detection (default is 3500).\n",
        "    - max_mag (float): The magnitude maximum for event detection (default is 10000).\n",
        "    - min_freq (float): The minimum frequency for event detection (default is 15hz).\n",
        "    - max_freq (float): The maximum frequency for event detection (default is 300hz).\n",
        "    - segment_duration (float): Duration of each STFT segment in seconds (default is 0.1s).\n",
        "    - time_threshold (float): Time threshold in seconds for merging events (default is 5s).\n",
        "    \"\"\"\n",
        "    try:\n",
        "        sample_rate, audio_data = wav.read(file_path)\n",
        "    except Exception as e:\n",
        "        print(f\"Error: {file_path} is not an audio file or doesn't exist. ({e})\")\n",
        "        return\n",
        "\n",
        "    # If stereo, take just one channel\n",
        "    if len(audio_data.shape) == 2:\n",
        "        audio_data = audio_data[:, 0]\n",
        "\n",
        "    # Convert audio data to np.float32 for efficiency\n",
        "    audio_data = audio_data.astype(np.float32)\n",
        "    # Remove DC offset by subtracting the mean\n",
        "    audio_data -= np.mean(audio_data)\n",
        "\n",
        "    # Compute the STFT with a specified segment duration\n",
        "    nperseg = int(segment_duration * sample_rate)\n",
        "    frequencies, times, Zxx = stft(audio_data, fs=sample_rate, nperseg=nperseg)\n",
        "    magnitude = np.abs(Zxx)  # Magnitude of the STFT result\n",
        "\n",
        "    # Initialize variables for event detection\n",
        "    last_event_time_seconds = None\n",
        "    event_data = []\n",
        "\n",
        "    # Iterate over each time frame, using np.where to find indices where magnitude exceeds threshold\n",
        "    for time_idx in range(magnitude.shape[1]):\n",
        "        # Filter for magnitudes above the threshold\n",
        "        magnitudes_at_time = magnitude[:, time_idx]\n",
        "        valid_indices = np.where(np.logical_and(magnitudes_at_time < max_mag, magnitudes_at_time > min_mag))[0]\n",
        "\n",
        "        if valid_indices.size == 0:\n",
        "            continue  # Skip if no magnitudes exceed the threshold\n",
        "\n",
        "        event_time_seconds = times[time_idx]\n",
        "        event_time_str = seconds_to_timestamp(event_time_seconds)\n",
        "\n",
        "        # Extract valid frequencies and magnitudes\n",
        "        valid_frequencies = frequencies[valid_indices]\n",
        "        valid_magnitudes = magnitudes_at_time[valid_indices]\n",
        "\n",
        "        # Filter frequencies between 15 and 300 Hz\n",
        "        freq_mask = (valid_frequencies < max_freq) & (valid_frequencies > min_freq)\n",
        "        valid_frequencies = valid_frequencies[freq_mask]\n",
        "        valid_magnitudes = valid_magnitudes[freq_mask]\n",
        "\n",
        "        # Process events more efficiently\n",
        "        for freq, mag in zip(valid_frequencies, valid_magnitudes):\n",
        "            if last_event_time_seconds is None:\n",
        "                # First event, add to dataset\n",
        "                event_data.append([file_path, event_time_str, event_time_str, mag, freq, 1])\n",
        "                last_event_time_seconds = event_time_seconds\n",
        "\n",
        "            else:\n",
        "                # Check if the event is within the 5-second window and more than .1 seconds later\n",
        "                time_diff = event_time_seconds - last_event_time_seconds\n",
        "\n",
        "                if time_diff <= time_threshold and time_diff > .1:  # Events within 5 seconds are merged\n",
        "                    # Extend the duration of the last event\n",
        "                    event_data[-1][2] = seconds_to_timestamp(event_time_seconds)\n",
        "                    # increase count of calls\n",
        "                    event_data[-1][5] += 1\n",
        "                elif time_diff > time_threshold:\n",
        "                    # Add new event\n",
        "                    event_data.append([file_path, event_time_str, event_time_str, mag, freq, 1])\n",
        "                # updates last event time\n",
        "                last_event_time_seconds = event_time_seconds\n",
        "\n",
        "    # Append all collected events to dataset at once\n",
        "    dataset.extend(event_data)"
      ],
      "metadata": {
        "id": "yv8itMLoFlQ9"
      },
      "execution_count": null,
      "outputs": []
    },
    {
      "cell_type": "markdown",
      "source": [
        "counts calls per file"
      ],
      "metadata": {
        "id": "OkhzwXp4MO2Y"
      }
    },
    {
      "cell_type": "code",
      "source": [
        "def file_count(main_list, check_list):\n",
        "    # Dictionary to store lists grouped by their first element\n",
        "    groups = defaultdict(int)\n",
        "\n",
        "    # Iterate through the main list\n",
        "    for name in check_list:\n",
        "        for sublist in main_list:\n",
        "            if sublist[0] == name:\n",
        "                groups[name] += sublist[5]\n",
        "        if name not in groups:\n",
        "          groups[name] = 0\n",
        "\n",
        "    # Return a list of lists, each containing [file_name, count]\n",
        "    return [[file_name, count] for file_name, count in groups.items()]\n"
      ],
      "metadata": {
        "id": "z3KbHE5pFmKZ"
      },
      "execution_count": null,
      "outputs": []
    },
    {
      "cell_type": "markdown",
      "source": [
        "runs on all files"
      ],
      "metadata": {
        "id": "0ZGgeVgXMRbA"
      }
    },
    {
      "cell_type": "code",
      "source": [
        "    \"\"\"\n",
        "    - Parameters:\n",
        "    - file_path (str): Path to the WAV file.\n",
        "    - dataset (list): List of lists to store events ([file_path, start, end, magnitude, frequency, count]).\n",
        "    - min_mag (float): The magnitude minimum for event detection (default is 3500).\n",
        "    - max_mag (float): The magnitude maximum for event detection (default is 10000).\n",
        "    - min_freq (float): The minimum frequency for event detection (default is 15hz).\n",
        "    - max_freq (float): The maximum frequency for event detection (default is 300hz).\n",
        "    - segment_duration (float): Duration of each STFT segment in seconds (default is 0.1s).\n",
        "    - time_threshold (float): Time threshold in seconds for merging events (default is 5s).\n",
        "    \"\"\"\n",
        "# modify these values to change the event\n",
        "    min_mag = 3500\n",
        "    max_mag = 10000\n",
        "    min_freq = 15\n",
        "    max_freq = 300\n",
        "    segment_duration = .1\n",
        "    time_threshold = 5\n",
        "\n",
        "#adds progress bar\n",
        "events = []\n",
        "for file in tqdm(file_list, desc=\"Processing files\", unit=\"file\"):\n",
        "     # extracts events\n",
        "     find_events_within_threshold(file,events, min_mag, max_mag, min_freq, max_freq, segment_duration, time_threshold)\n",
        "# counts saws per file\n",
        "file_counts = file_count(events, file_list)\n",
        "\n",
        "# saves results into an excel file\n",
        "df = pd.DataFrame(events, columns=['File', 'Start', 'End', 'Magnitude', 'Frequency', 'Number of Calls'])\n",
        "\n",
        "# Extract the date from the File column using string slicing and add it as a new column\n",
        "df['Date'] = df['File'].str.extract(r'_(\\d{8})_')[0]\n",
        "\n",
        "#foward fill date\n",
        "df['Date'] = df['Date'].ffill()\n",
        "\n",
        "# Display the DataFrame with the new Date column\n",
        "df.to_excel(\"events.xlsx\")\n",
        "\n",
        "df = pd.DataFrame(file_counts, columns=['File', 'Number of Events'])\n",
        "df.to_excel(\"file_counts.xlsx\")"
      ],
      "metadata": {
        "colab": {
          "base_uri": "https://localhost:8080/"
        },
        "id": "OViGzg4CFoRt",
        "outputId": "e7b7cf1f-e7cc-4b9f-e58e-a09a7532616a"
      },
      "execution_count": null,
      "outputs": [
        {
          "output_type": "stream",
          "name": "stderr",
          "text": [
            "\rProcessing files:   0%|          | 0/1 [00:00<?, ?file/s]<ipython-input-10-6fa647a29839>:17: WavFileWarning: Chunk (non-data) not understood, skipping it.\n",
            "  sample_rate, audio_data = wav.read(file_path)\n",
            "Processing files: 100%|██████████| 1/1 [00:09<00:00,  9.24s/file]\n"
          ]
        }
      ]
    }
  ]
}