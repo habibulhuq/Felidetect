{
  "cells": [
    {
      "cell_type": "markdown",
      "source": [
        "**Updated Code from 09/09/2024 to 10/12/24**\n",
        "\n",
        "All Back End Code.\n",
        "Takes 1 hour orginal Audio Files, Reduces the noise and creates a new 'reduced audio file', creates a new 1-4 second long audio file for each detected noises based on a certain threshold,\n",
        "\n",
        "Testing ways to put all this data into a excel sheet to visualize information better.\n",
        "\n",
        "Started working on a function where user can then verify each detected noise by viewing it's Waveform, Spectrogram, and Audio to confirm if it's a SAW, SAW CALL, or Neither."
      ],
      "metadata": {
        "id": "CJiEfEcI16Hb"
      }
    },
    {
      "cell_type": "markdown",
      "metadata": {
        "id": "uxYEouho0ueu"
      },
      "source": [
        "# Installing & Importing necessary libraries\n"
      ]
    },
    {
      "cell_type": "code",
      "execution_count": null,
      "metadata": {
        "colab": {
          "base_uri": "https://localhost:8080/"
        },
        "collapsed": true,
        "id": "8c-bOfXrXvqb",
        "outputId": "28b3fb10-e5d4-439f-b3a5-651051c302dd"
      },
      "outputs": [
        {
          "output_type": "stream",
          "name": "stdout",
          "text": [
            "Collecting auditok\n",
            "  Downloading auditok-0.2.0-py3-none-any.whl.metadata (5.5 kB)\n",
            "Downloading auditok-0.2.0-py3-none-any.whl (1.5 MB)\n",
            "\u001b[?25l   \u001b[90m━━━━━━━━━━━━━━━━━━━━━━━━━━━━━━━━━━━━━━━━\u001b[0m \u001b[32m0.0/1.5 MB\u001b[0m \u001b[31m?\u001b[0m eta \u001b[36m-:--:--\u001b[0m\r\u001b[2K   \u001b[91m━━━━━\u001b[0m\u001b[90m╺\u001b[0m\u001b[90m━━━━━━━━━━━━━━━━━━━━━━━━━━━━━━━━━━\u001b[0m \u001b[32m0.2/1.5 MB\u001b[0m \u001b[31m7.1 MB/s\u001b[0m eta \u001b[36m0:00:01\u001b[0m\r\u001b[2K   \u001b[91m━━━━━━━━━━━━━━━━━━━━━━━━━━━━\u001b[0m\u001b[90m╺\u001b[0m\u001b[90m━━━━━━━━━━━\u001b[0m \u001b[32m1.0/1.5 MB\u001b[0m \u001b[31m15.9 MB/s\u001b[0m eta \u001b[36m0:00:01\u001b[0m\r\u001b[2K   \u001b[90m━━━━━━━━━━━━━━━━━━━━━━━━━━━━━━━━━━━━━━━━\u001b[0m \u001b[32m1.5/1.5 MB\u001b[0m \u001b[31m13.8 MB/s\u001b[0m eta \u001b[36m0:00:00\u001b[0m\n",
            "\u001b[?25hInstalling collected packages: auditok\n",
            "Successfully installed auditok-0.2.0\n",
            "Collecting noisereduce\n",
            "  Downloading noisereduce-3.0.3-py3-none-any.whl.metadata (14 kB)\n",
            "Requirement already satisfied: scipy in /usr/local/lib/python3.10/dist-packages (from noisereduce) (1.13.1)\n",
            "Requirement already satisfied: matplotlib in /usr/local/lib/python3.10/dist-packages (from noisereduce) (3.7.1)\n",
            "Requirement already satisfied: numpy in /usr/local/lib/python3.10/dist-packages (from noisereduce) (1.26.4)\n",
            "Requirement already satisfied: tqdm in /usr/local/lib/python3.10/dist-packages (from noisereduce) (4.66.5)\n",
            "Requirement already satisfied: joblib in /usr/local/lib/python3.10/dist-packages (from noisereduce) (1.4.2)\n",
            "Requirement already satisfied: contourpy>=1.0.1 in /usr/local/lib/python3.10/dist-packages (from matplotlib->noisereduce) (1.3.0)\n",
            "Requirement already satisfied: cycler>=0.10 in /usr/local/lib/python3.10/dist-packages (from matplotlib->noisereduce) (0.12.1)\n",
            "Requirement already satisfied: fonttools>=4.22.0 in /usr/local/lib/python3.10/dist-packages (from matplotlib->noisereduce) (4.54.1)\n",
            "Requirement already satisfied: kiwisolver>=1.0.1 in /usr/local/lib/python3.10/dist-packages (from matplotlib->noisereduce) (1.4.7)\n",
            "Requirement already satisfied: packaging>=20.0 in /usr/local/lib/python3.10/dist-packages (from matplotlib->noisereduce) (24.1)\n",
            "Requirement already satisfied: pillow>=6.2.0 in /usr/local/lib/python3.10/dist-packages (from matplotlib->noisereduce) (10.4.0)\n",
            "Requirement already satisfied: pyparsing>=2.3.1 in /usr/local/lib/python3.10/dist-packages (from matplotlib->noisereduce) (3.1.4)\n",
            "Requirement already satisfied: python-dateutil>=2.7 in /usr/local/lib/python3.10/dist-packages (from matplotlib->noisereduce) (2.8.2)\n",
            "Requirement already satisfied: six>=1.5 in /usr/local/lib/python3.10/dist-packages (from python-dateutil>=2.7->matplotlib->noisereduce) (1.16.0)\n",
            "Downloading noisereduce-3.0.3-py3-none-any.whl (22 kB)\n",
            "Installing collected packages: noisereduce\n",
            "Successfully installed noisereduce-3.0.3\n",
            "Requirement already satisfied: matplotlib in /usr/local/lib/python3.10/dist-packages (3.7.1)\n",
            "Requirement already satisfied: numpy in /usr/local/lib/python3.10/dist-packages (1.26.4)\n",
            "Requirement already satisfied: scipy in /usr/local/lib/python3.10/dist-packages (1.13.1)\n",
            "Requirement already satisfied: contourpy>=1.0.1 in /usr/local/lib/python3.10/dist-packages (from matplotlib) (1.3.0)\n",
            "Requirement already satisfied: cycler>=0.10 in /usr/local/lib/python3.10/dist-packages (from matplotlib) (0.12.1)\n",
            "Requirement already satisfied: fonttools>=4.22.0 in /usr/local/lib/python3.10/dist-packages (from matplotlib) (4.54.1)\n",
            "Requirement already satisfied: kiwisolver>=1.0.1 in /usr/local/lib/python3.10/dist-packages (from matplotlib) (1.4.7)\n",
            "Requirement already satisfied: packaging>=20.0 in /usr/local/lib/python3.10/dist-packages (from matplotlib) (24.1)\n",
            "Requirement already satisfied: pillow>=6.2.0 in /usr/local/lib/python3.10/dist-packages (from matplotlib) (10.4.0)\n",
            "Requirement already satisfied: pyparsing>=2.3.1 in /usr/local/lib/python3.10/dist-packages (from matplotlib) (3.1.4)\n",
            "Requirement already satisfied: python-dateutil>=2.7 in /usr/local/lib/python3.10/dist-packages (from matplotlib) (2.8.2)\n",
            "Requirement already satisfied: six>=1.5 in /usr/local/lib/python3.10/dist-packages (from python-dateutil>=2.7->matplotlib) (1.16.0)\n",
            "Requirement already satisfied: ipywidgets in /usr/local/lib/python3.10/dist-packages (7.7.1)\n",
            "Requirement already satisfied: ipykernel>=4.5.1 in /usr/local/lib/python3.10/dist-packages (from ipywidgets) (5.5.6)\n",
            "Requirement already satisfied: ipython-genutils~=0.2.0 in /usr/local/lib/python3.10/dist-packages (from ipywidgets) (0.2.0)\n",
            "Requirement already satisfied: traitlets>=4.3.1 in /usr/local/lib/python3.10/dist-packages (from ipywidgets) (5.7.1)\n",
            "Requirement already satisfied: widgetsnbextension~=3.6.0 in /usr/local/lib/python3.10/dist-packages (from ipywidgets) (3.6.9)\n",
            "Requirement already satisfied: ipython>=4.0.0 in /usr/local/lib/python3.10/dist-packages (from ipywidgets) (7.34.0)\n",
            "Requirement already satisfied: jupyterlab-widgets>=1.0.0 in /usr/local/lib/python3.10/dist-packages (from ipywidgets) (3.0.13)\n",
            "Requirement already satisfied: jupyter-client in /usr/local/lib/python3.10/dist-packages (from ipykernel>=4.5.1->ipywidgets) (6.1.12)\n",
            "Requirement already satisfied: tornado>=4.2 in /usr/local/lib/python3.10/dist-packages (from ipykernel>=4.5.1->ipywidgets) (6.3.3)\n",
            "Requirement already satisfied: setuptools>=18.5 in /usr/local/lib/python3.10/dist-packages (from ipython>=4.0.0->ipywidgets) (71.0.4)\n",
            "Collecting jedi>=0.16 (from ipython>=4.0.0->ipywidgets)\n",
            "  Downloading jedi-0.19.1-py2.py3-none-any.whl.metadata (22 kB)\n",
            "Requirement already satisfied: decorator in /usr/local/lib/python3.10/dist-packages (from ipython>=4.0.0->ipywidgets) (4.4.2)\n",
            "Requirement already satisfied: pickleshare in /usr/local/lib/python3.10/dist-packages (from ipython>=4.0.0->ipywidgets) (0.7.5)\n",
            "Requirement already satisfied: prompt-toolkit!=3.0.0,!=3.0.1,<3.1.0,>=2.0.0 in /usr/local/lib/python3.10/dist-packages (from ipython>=4.0.0->ipywidgets) (3.0.48)\n",
            "Requirement already satisfied: pygments in /usr/local/lib/python3.10/dist-packages (from ipython>=4.0.0->ipywidgets) (2.18.0)\n",
            "Requirement already satisfied: backcall in /usr/local/lib/python3.10/dist-packages (from ipython>=4.0.0->ipywidgets) (0.2.0)\n",
            "Requirement already satisfied: matplotlib-inline in /usr/local/lib/python3.10/dist-packages (from ipython>=4.0.0->ipywidgets) (0.1.7)\n",
            "Requirement already satisfied: pexpect>4.3 in /usr/local/lib/python3.10/dist-packages (from ipython>=4.0.0->ipywidgets) (4.9.0)\n",
            "Requirement already satisfied: notebook>=4.4.1 in /usr/local/lib/python3.10/dist-packages (from widgetsnbextension~=3.6.0->ipywidgets) (6.5.5)\n",
            "Requirement already satisfied: parso<0.9.0,>=0.8.3 in /usr/local/lib/python3.10/dist-packages (from jedi>=0.16->ipython>=4.0.0->ipywidgets) (0.8.4)\n",
            "Requirement already satisfied: jinja2 in /usr/local/lib/python3.10/dist-packages (from notebook>=4.4.1->widgetsnbextension~=3.6.0->ipywidgets) (3.1.4)\n",
            "Requirement already satisfied: pyzmq<25,>=17 in /usr/local/lib/python3.10/dist-packages (from notebook>=4.4.1->widgetsnbextension~=3.6.0->ipywidgets) (24.0.1)\n",
            "Requirement already satisfied: argon2-cffi in /usr/local/lib/python3.10/dist-packages (from notebook>=4.4.1->widgetsnbextension~=3.6.0->ipywidgets) (23.1.0)\n",
            "Requirement already satisfied: jupyter-core>=4.6.1 in /usr/local/lib/python3.10/dist-packages (from notebook>=4.4.1->widgetsnbextension~=3.6.0->ipywidgets) (5.7.2)\n",
            "Requirement already satisfied: nbformat in /usr/local/lib/python3.10/dist-packages (from notebook>=4.4.1->widgetsnbextension~=3.6.0->ipywidgets) (5.10.4)\n",
            "Requirement already satisfied: nbconvert>=5 in /usr/local/lib/python3.10/dist-packages (from notebook>=4.4.1->widgetsnbextension~=3.6.0->ipywidgets) (6.5.4)\n",
            "Requirement already satisfied: nest-asyncio>=1.5 in /usr/local/lib/python3.10/dist-packages (from notebook>=4.4.1->widgetsnbextension~=3.6.0->ipywidgets) (1.6.0)\n",
            "Requirement already satisfied: Send2Trash>=1.8.0 in /usr/local/lib/python3.10/dist-packages (from notebook>=4.4.1->widgetsnbextension~=3.6.0->ipywidgets) (1.8.3)\n",
            "Requirement already satisfied: terminado>=0.8.3 in /usr/local/lib/python3.10/dist-packages (from notebook>=4.4.1->widgetsnbextension~=3.6.0->ipywidgets) (0.18.1)\n",
            "Requirement already satisfied: prometheus-client in /usr/local/lib/python3.10/dist-packages (from notebook>=4.4.1->widgetsnbextension~=3.6.0->ipywidgets) (0.21.0)\n",
            "Requirement already satisfied: nbclassic>=0.4.7 in /usr/local/lib/python3.10/dist-packages (from notebook>=4.4.1->widgetsnbextension~=3.6.0->ipywidgets) (1.1.0)\n",
            "Requirement already satisfied: python-dateutil>=2.1 in /usr/local/lib/python3.10/dist-packages (from jupyter-client->ipykernel>=4.5.1->ipywidgets) (2.8.2)\n",
            "Requirement already satisfied: ptyprocess>=0.5 in /usr/local/lib/python3.10/dist-packages (from pexpect>4.3->ipython>=4.0.0->ipywidgets) (0.7.0)\n",
            "Requirement already satisfied: wcwidth in /usr/local/lib/python3.10/dist-packages (from prompt-toolkit!=3.0.0,!=3.0.1,<3.1.0,>=2.0.0->ipython>=4.0.0->ipywidgets) (0.2.13)\n",
            "Requirement already satisfied: platformdirs>=2.5 in /usr/local/lib/python3.10/dist-packages (from jupyter-core>=4.6.1->notebook>=4.4.1->widgetsnbextension~=3.6.0->ipywidgets) (4.3.6)\n",
            "Requirement already satisfied: notebook-shim>=0.2.3 in /usr/local/lib/python3.10/dist-packages (from nbclassic>=0.4.7->notebook>=4.4.1->widgetsnbextension~=3.6.0->ipywidgets) (0.2.4)\n",
            "Requirement already satisfied: lxml in /usr/local/lib/python3.10/dist-packages (from nbconvert>=5->notebook>=4.4.1->widgetsnbextension~=3.6.0->ipywidgets) (4.9.4)\n",
            "Requirement already satisfied: beautifulsoup4 in /usr/local/lib/python3.10/dist-packages (from nbconvert>=5->notebook>=4.4.1->widgetsnbextension~=3.6.0->ipywidgets) (4.12.3)\n",
            "Requirement already satisfied: bleach in /usr/local/lib/python3.10/dist-packages (from nbconvert>=5->notebook>=4.4.1->widgetsnbextension~=3.6.0->ipywidgets) (6.1.0)\n",
            "Requirement already satisfied: defusedxml in /usr/local/lib/python3.10/dist-packages (from nbconvert>=5->notebook>=4.4.1->widgetsnbextension~=3.6.0->ipywidgets) (0.7.1)\n",
            "Requirement already satisfied: entrypoints>=0.2.2 in /usr/local/lib/python3.10/dist-packages (from nbconvert>=5->notebook>=4.4.1->widgetsnbextension~=3.6.0->ipywidgets) (0.4)\n",
            "Requirement already satisfied: jupyterlab-pygments in /usr/local/lib/python3.10/dist-packages (from nbconvert>=5->notebook>=4.4.1->widgetsnbextension~=3.6.0->ipywidgets) (0.3.0)\n",
            "Requirement already satisfied: MarkupSafe>=2.0 in /usr/local/lib/python3.10/dist-packages (from nbconvert>=5->notebook>=4.4.1->widgetsnbextension~=3.6.0->ipywidgets) (3.0.1)\n",
            "Requirement already satisfied: mistune<2,>=0.8.1 in /usr/local/lib/python3.10/dist-packages (from nbconvert>=5->notebook>=4.4.1->widgetsnbextension~=3.6.0->ipywidgets) (0.8.4)\n",
            "Requirement already satisfied: nbclient>=0.5.0 in /usr/local/lib/python3.10/dist-packages (from nbconvert>=5->notebook>=4.4.1->widgetsnbextension~=3.6.0->ipywidgets) (0.10.0)\n",
            "Requirement already satisfied: packaging in /usr/local/lib/python3.10/dist-packages (from nbconvert>=5->notebook>=4.4.1->widgetsnbextension~=3.6.0->ipywidgets) (24.1)\n",
            "Requirement already satisfied: pandocfilters>=1.4.1 in /usr/local/lib/python3.10/dist-packages (from nbconvert>=5->notebook>=4.4.1->widgetsnbextension~=3.6.0->ipywidgets) (1.5.1)\n",
            "Requirement already satisfied: tinycss2 in /usr/local/lib/python3.10/dist-packages (from nbconvert>=5->notebook>=4.4.1->widgetsnbextension~=3.6.0->ipywidgets) (1.3.0)\n",
            "Requirement already satisfied: fastjsonschema>=2.15 in /usr/local/lib/python3.10/dist-packages (from nbformat->notebook>=4.4.1->widgetsnbextension~=3.6.0->ipywidgets) (2.20.0)\n",
            "Requirement already satisfied: jsonschema>=2.6 in /usr/local/lib/python3.10/dist-packages (from nbformat->notebook>=4.4.1->widgetsnbextension~=3.6.0->ipywidgets) (4.23.0)\n",
            "Requirement already satisfied: six>=1.5 in /usr/local/lib/python3.10/dist-packages (from python-dateutil>=2.1->jupyter-client->ipykernel>=4.5.1->ipywidgets) (1.16.0)\n",
            "Requirement already satisfied: argon2-cffi-bindings in /usr/local/lib/python3.10/dist-packages (from argon2-cffi->notebook>=4.4.1->widgetsnbextension~=3.6.0->ipywidgets) (21.2.0)\n",
            "Requirement already satisfied: attrs>=22.2.0 in /usr/local/lib/python3.10/dist-packages (from jsonschema>=2.6->nbformat->notebook>=4.4.1->widgetsnbextension~=3.6.0->ipywidgets) (24.2.0)\n",
            "Requirement already satisfied: jsonschema-specifications>=2023.03.6 in /usr/local/lib/python3.10/dist-packages (from jsonschema>=2.6->nbformat->notebook>=4.4.1->widgetsnbextension~=3.6.0->ipywidgets) (2024.10.1)\n",
            "Requirement already satisfied: referencing>=0.28.4 in /usr/local/lib/python3.10/dist-packages (from jsonschema>=2.6->nbformat->notebook>=4.4.1->widgetsnbextension~=3.6.0->ipywidgets) (0.35.1)\n",
            "Requirement already satisfied: rpds-py>=0.7.1 in /usr/local/lib/python3.10/dist-packages (from jsonschema>=2.6->nbformat->notebook>=4.4.1->widgetsnbextension~=3.6.0->ipywidgets) (0.20.0)\n",
            "Requirement already satisfied: jupyter-server<3,>=1.8 in /usr/local/lib/python3.10/dist-packages (from notebook-shim>=0.2.3->nbclassic>=0.4.7->notebook>=4.4.1->widgetsnbextension~=3.6.0->ipywidgets) (1.24.0)\n",
            "Requirement already satisfied: cffi>=1.0.1 in /usr/local/lib/python3.10/dist-packages (from argon2-cffi-bindings->argon2-cffi->notebook>=4.4.1->widgetsnbextension~=3.6.0->ipywidgets) (1.17.1)\n",
            "Requirement already satisfied: soupsieve>1.2 in /usr/local/lib/python3.10/dist-packages (from beautifulsoup4->nbconvert>=5->notebook>=4.4.1->widgetsnbextension~=3.6.0->ipywidgets) (2.6)\n",
            "Requirement already satisfied: webencodings in /usr/local/lib/python3.10/dist-packages (from bleach->nbconvert>=5->notebook>=4.4.1->widgetsnbextension~=3.6.0->ipywidgets) (0.5.1)\n",
            "Requirement already satisfied: pycparser in /usr/local/lib/python3.10/dist-packages (from cffi>=1.0.1->argon2-cffi-bindings->argon2-cffi->notebook>=4.4.1->widgetsnbextension~=3.6.0->ipywidgets) (2.22)\n",
            "Requirement already satisfied: anyio<4,>=3.1.0 in /usr/local/lib/python3.10/dist-packages (from jupyter-server<3,>=1.8->notebook-shim>=0.2.3->nbclassic>=0.4.7->notebook>=4.4.1->widgetsnbextension~=3.6.0->ipywidgets) (3.7.1)\n",
            "Requirement already satisfied: websocket-client in /usr/local/lib/python3.10/dist-packages (from jupyter-server<3,>=1.8->notebook-shim>=0.2.3->nbclassic>=0.4.7->notebook>=4.4.1->widgetsnbextension~=3.6.0->ipywidgets) (1.8.0)\n",
            "Requirement already satisfied: idna>=2.8 in /usr/local/lib/python3.10/dist-packages (from anyio<4,>=3.1.0->jupyter-server<3,>=1.8->notebook-shim>=0.2.3->nbclassic>=0.4.7->notebook>=4.4.1->widgetsnbextension~=3.6.0->ipywidgets) (3.10)\n",
            "Requirement already satisfied: sniffio>=1.1 in /usr/local/lib/python3.10/dist-packages (from anyio<4,>=3.1.0->jupyter-server<3,>=1.8->notebook-shim>=0.2.3->nbclassic>=0.4.7->notebook>=4.4.1->widgetsnbextension~=3.6.0->ipywidgets) (1.3.1)\n",
            "Requirement already satisfied: exceptiongroup in /usr/local/lib/python3.10/dist-packages (from anyio<4,>=3.1.0->jupyter-server<3,>=1.8->notebook-shim>=0.2.3->nbclassic>=0.4.7->notebook>=4.4.1->widgetsnbextension~=3.6.0->ipywidgets) (1.2.2)\n",
            "Downloading jedi-0.19.1-py2.py3-none-any.whl (1.6 MB)\n",
            "\u001b[2K   \u001b[90m━━━━━━━━━━━━━━━━━━━━━━━━━━━━━━━━━━━━━━━━\u001b[0m \u001b[32m1.6/1.6 MB\u001b[0m \u001b[31m19.5 MB/s\u001b[0m eta \u001b[36m0:00:00\u001b[0m\n",
            "\u001b[?25hInstalling collected packages: jedi\n",
            "Successfully installed jedi-0.19.1\n"
          ]
        }
      ],
      "source": [
        "!pip install auditok\n",
        "#library avaible on github. git it duration and what sound energy it's looking for and marks past that point\n",
        "\n",
        "!pip install noisereduce\n",
        "#it reduces the noise in the audio file. noises causes issues during analysis\n",
        "\n",
        "!pip install matplotlib numpy scipy\n",
        "\n",
        "!pip install ipywidgets\n",
        "#To add buttons in our output for user to verify detected noises"
      ]
    },
    {
      "cell_type": "code",
      "execution_count": null,
      "metadata": {
        "id": "469-sBrnYKCY"
      },
      "outputs": [],
      "source": [
        "# Import Libraries\n",
        "import glob #look into this. A way to handle directories in python\n",
        "import numpy as np\n",
        "from scipy.io import wavfile\n",
        "from scipy.io.wavfile import write\n",
        "import noisereduce as nr\n",
        "import auditok\n",
        "import pandas as pd\n",
        "import datetime\n",
        "import os\n",
        "import statistics\n",
        "\n",
        "import ipywidgets as widgets\n",
        "from ipywidgets import Button, Output, IntSlider\n",
        "from IPython.display import display, clear_output, Audio, HTML  # Import Audio and display for playback\n",
        "\n",
        "\n",
        "import matplotlib.pyplot as plt\n",
        "\n",
        "import asyncio\n"
      ]
    },
    {
      "cell_type": "markdown",
      "metadata": {
        "id": "C9GXJhGtomkQ"
      },
      "source": [
        "# Mounting Google Drive and finding folders\n",
        "The Google Drive has all the audio files we will need to look at\n",
        "**sure you had starred the \"Cat Song Meter Recordings\" google drive to \"My Drive\"**"
      ]
    },
    {
      "cell_type": "code",
      "execution_count": null,
      "metadata": {
        "colab": {
          "base_uri": "https://localhost:8080/"
        },
        "id": "t9NVYMz1fRRT",
        "outputId": "74a10325-66f2-4452-b2bd-83378b995c83"
      },
      "outputs": [
        {
          "output_type": "stream",
          "name": "stdout",
          "text": [
            "Mounted at /content/drive\n"
          ]
        }
      ],
      "source": [
        "from google.colab import drive\n",
        "drive.mount('/content/drive', force_remount=True)"
      ]
    },
    {
      "cell_type": "markdown",
      "metadata": {
        "id": "NbY4bg-Ygbdv"
      },
      "source": [
        "**Below you will put the path to the folder you want to look at that contains 1 hour incremented audio files. Put your desired path in the 2nd line of code, 'base_dir' variable.**\n",
        "\n",
        "Google Drive Tree:\n",
        "\n",
        "    \\content\n",
        "      \\drive\n",
        "        \\MyDrive\n",
        "          \\Cat Song Meter Recordings\n",
        "            \\ Desired Folder..."
      ]
    },
    {
      "cell_type": "code",
      "execution_count": null,
      "metadata": {
        "colab": {
          "base_uri": "https://localhost:8080/"
        },
        "id": "Q7atmxoiYV_e",
        "outputId": "c34f9611-a925-40f5-9053-c1c22e3328e1"
      },
      "outputs": [
        {
          "output_type": "execute_result",
          "data": {
            "text/plain": [
              "['/content/drive/MyDrive/Cat Song Meter Recordings/Capstone Code Review Folder/SMM07257_20221117_153302.wav']"
            ]
          },
          "metadata": {},
          "execution_count": 5
        }
      ],
      "source": [
        "#Directory paths- insert folder path in 'base_dir'\n",
        "base_dir = '/content/drive/MyDrive/Cat Song Meter Recordings/Capstone Code Review Folder' # Edit this\n",
        "reduced_audio_dir = os.path.join(base_dir, 'ReducedAudio')  # Folder that will hold reduced audio files\n",
        "saw_calls_dir = os.path.join(base_dir, 'DetectedSawCalls')  # Folder that will hold detected saw calls\n",
        "\n",
        "#Ensure directories exist\n",
        "os.makedirs(reduced_audio_dir, exist_ok=True)\n",
        "os.makedirs(saw_calls_dir, exist_ok=True)\n",
        "\n",
        "#Extracts path for .wav files\n",
        "file_list = glob.glob(os.path.join(base_dir, '*.wav')) # extract all files with .wav\n",
        "    # The '*' prints keep everything before the *\n",
        "    # so it keeps up to '/content/drive/MyDrive/Cat Song Meter Recordings/...    when extracting a file\n",
        "\n",
        "#Print all the files in that file_list\n",
        "file_list"
      ]
    },
    {
      "cell_type": "code",
      "execution_count": null,
      "metadata": {
        "collapsed": true,
        "id": "kL0dp1huCqPQ",
        "colab": {
          "base_uri": "https://localhost:8080/"
        },
        "outputId": "9c46060d-510f-4eb8-fe1c-bb24702fd05c"
      },
      "outputs": [
        {
          "output_type": "stream",
          "name": "stdout",
          "text": [
            "File Name that will be Noise Reduced and Detect Noises: SMM07257_20221117_153302\n"
          ]
        }
      ],
      "source": [
        "for file in file_list:\n",
        "  filename = file[-28:-4] #slicing- removing all the non-important details from the file name\n",
        "  print(\"File Name that will be Noise Reduced and Detect Noises: \" + filename)"
      ]
    },
    {
      "cell_type": "markdown",
      "metadata": {
        "id": "GhKmGC0w7eba"
      },
      "source": [
        "# Noise Reduction:\n",
        "Noise reduction is crucial for accurate sound detection, which is a core requirement in identifying the vocalizations of big cats. This code will take a 1-hour long RAW audio file and reduce the noise in it, creating a new reduces noise audio file.\n",
        "\n",
        "Background: Weekly, the backend will process daily recordings, which consist of 16 one-hour incremented raw audio files (recorded between 4 pm and 8 am), reducing background noise and creating 16 new noise-reduced audio files."
      ]
    },
    {
      "cell_type": "code",
      "execution_count": null,
      "metadata": {
        "id": "wNL3x5LtYWDq"
      },
      "outputs": [],
      "source": [
        "def noise_reduction(file, output_dir):\n",
        "    \"\"\" Reduces background noise from audio files and saves them.\"\"\"\n",
        "    rate, data = wavfile.read(file)  # Read the .wav file\n",
        "\n",
        "    # Define new file name for the reduced file as filename_reduced.wav\n",
        "    filename = os.path.basename(file)[:-4] + \"_reduced.wav\"\n",
        "\n",
        "    # Check if the reduced file already exists\n",
        "    reduced_file_path = os.path.join(output_dir, filename)\n",
        "    if os.path.exists(reduced_file_path):\n",
        "        # Prompt the user for action\n",
        "        user_input = input(f\"Reduced file already exists: {reduced_file_path}. Do you want to overwrite it? (y/n): \").strip().lower()\n",
        "        if user_input != 'y':\n",
        "            print(f\"Keeping existing reduced file: {reduced_file_path}\")\n",
        "            return  # Exit the function if the user chooses not to overwrite\n",
        "    print(\"Overwritting the existing file and creating a new reduced file is in process\")\n",
        "\n",
        "    # Perform noise reduction\n",
        "    reduced_noise = nr.reduce_noise(y=data, sr=rate)\n",
        "\n",
        "    # Save the reduced audio to the output directory\n",
        "    write(reduced_file_path, rate, reduced_noise)\n",
        "    print(f\"Noise reduction complete for {file}\")"
      ]
    },
    {
      "cell_type": "code",
      "execution_count": null,
      "metadata": {
        "id": "7cc9mkJ6D7b0",
        "colab": {
          "base_uri": "https://localhost:8080/"
        },
        "outputId": "75378d42-82ac-4a87-99bb-4e23d5872e8e"
      },
      "outputs": [
        {
          "output_type": "stream",
          "name": "stderr",
          "text": [
            "<ipython-input-8-e3485cff2dc1>:3: WavFileWarning: Chunk (non-data) not understood, skipping it.\n",
            "  rate, data = wavfile.read(file)  # Read the .wav file\n"
          ]
        },
        {
          "output_type": "stream",
          "name": "stdout",
          "text": [
            "Reduced file already exists: /content/drive/MyDrive/Cat Song Meter Recordings/Capstone Code Review Folder/ReducedAudio/SMM07257_20221117_153302_reduced.wav. Do you want to overwrite it? (y/n): n\n",
            "Keeping existing reduced file: /content/drive/MyDrive/Cat Song Meter Recordings/Capstone Code Review Folder/ReducedAudio/SMM07257_20221117_153302_reduced.wav\n"
          ]
        }
      ],
      "source": [
        "# Iterate over all original .wav audio files and perform noise reduction(eliminating background noise) on each\n",
        "for file in file_list:\n",
        "    noise_reduction(file, reduced_audio_dir)"
      ]
    },
    {
      "cell_type": "code",
      "execution_count": null,
      "metadata": {
        "colab": {
          "base_uri": "https://localhost:8080/"
        },
        "id": "O-oKu8wYZHja",
        "outputId": "6bae2d97-23e7-4ad6-b980-a7ea34325d8a"
      },
      "outputs": [
        {
          "output_type": "stream",
          "name": "stdout",
          "text": [
            "File path for the new reduced noise audio file: ['/content/drive/MyDrive/Cat Song Meter Recordings/Capstone Code Review Folder/ReducedAudio/SMM07257_20221117_153302_reduced.wav']\n",
            "Reduced Audio Directory Contents: ['SMM07257_20221117_153302_reduced.wav']\n"
          ]
        }
      ],
      "source": [
        "# This extracts the path way for each reduced noise .wav file and prints it to user\n",
        "audio_list = glob.glob(os.path.join(reduced_audio_dir, '*_reduced.wav'))\n",
        "print(f\"File path for the new reduced noise audio file: {audio_list}\")\n",
        "print(\"Reduced Audio Directory Contents:\", os.listdir(reduced_audio_dir))"
      ]
    },
    {
      "cell_type": "markdown",
      "source": [
        "# Plotting Waveforms and Spectrograms"
      ],
      "metadata": {
        "id": "4mLuJvQ36Fuv"
      }
    },
    {
      "cell_type": "code",
      "execution_count": null,
      "metadata": {
        "id": "-mnbc36eK734"
      },
      "outputs": [],
      "source": [
        "# This function creates a waveform and spectrogram for each detected noise file and displays it\n",
        "def plot_waveform_and_spectrogram(file, start_time, end_time, reduced_file):\n",
        "    # Read the audio file\n",
        "    rate, data = wavfile.read(file)\n",
        "\n",
        "    # Create time axis for waveform\n",
        "    time = np.linspace(0, len(data) / rate, num=len(data))\n",
        "\n",
        "    # Create figure for waveform and spectrogram\n",
        "    fig, axs = plt.subplots(2, 1, figsize=(12, 8))\n",
        "\n",
        "    # Plot waveform\n",
        "    axs[0].plot(time, data)\n",
        "    axs[0].set_title(f'Waveform\\n Reduced File: {reduced_file[-28:-4]}   Detected File: {file[-28:-4]},\\n Region: {start_time} - {end_time}')\n",
        "    axs[0].set_xlabel('Time (s)')\n",
        "    axs[0].set_ylabel('Amplitude')\n",
        "\n",
        "    # Plot spectrogram\n",
        "    axs[1].specgram(data, Fs=rate, NFFT=1024, noverlap=512, cmap='viridis')\n",
        "    axs[1].set_title(f'Spectrogram\\n Reduced File: {reduced_file[-28:-4]}   Detected File: {file[-28:-4]},\\n Region: {start_time} - {end_time}')\n",
        "    axs[1].set_xlabel('Time (s)')\n",
        "    axs[1].set_ylabel('Frequency (Hz)')\n",
        "\n",
        "    # Add space between plots\n",
        "    plt.subplots_adjust(hspace=1.5)  # Increase hspace to add space between the two plots\n",
        "    plt.tight_layout()\n",
        "    plt.show()\n",
        "\n",
        "  #Just prints spectrogtram\n",
        "def plot_onlyspectrogram(file, start_time, end_time, reduced_file):\n",
        "    # Read the audio file\n",
        "    rate, data = wavfile.read(file)\n",
        "\n",
        "    # Create time axis for waveform\n",
        "    time = np.linspace(0, len(data) / rate, num=len(data))\n",
        "\n",
        "    # Create figure for the plot\n",
        "    plt.figure(figsize=(10, 6))\n",
        "\n",
        "    # Plot spectrogram\n",
        "    Pxx, freqs, bins, im = plt.specgram(data, Fs=rate, NFFT=1024, noverlap=512, cmap='gray')  # Adjusted to gray colormap\n",
        "\n",
        "    # Convert frequency axis to kHz for clearer presentation\n",
        "    plt.ylim(0, 12000)  # Show frequencies up to 12kHz (matching your example)\n",
        "    plt.yticks(np.arange(0, 13000, 1000), labels=[f'{i/1000:.0f}' for i in np.arange(0, 13000, 1000)])  # kHz labels\n",
        "\n",
        "    # Title including the file name and time range\n",
        "    plt.title(f'Spectrogram\\n Reduced File: {reduced_file[-28:-4]}    Detected File: {file[-28:-4]},\\n Region: {start_time} - {end_time}', pad=10)\n",
        "    plt.xlabel('Time (mm:ss)')\n",
        "    plt.ylabel('Frequency (kHz)')\n",
        "\n",
        "    # Format x-axis labels to show time in mm:ss\n",
        "    x_ticks = plt.gca().get_xticks()\n",
        "    plt.gca().set_xticklabels([f'{int(t//60)}:{int(t%60):02d}' for t in x_ticks])\n",
        "\n",
        "    plt.tight_layout() # Adjust layout to prevent overlap\n",
        "\n",
        "    plt.show() # Show the plot"
      ]
    },
    {
      "cell_type": "markdown",
      "source": [
        "# Classifications through buttons"
      ],
      "metadata": {
        "id": "cTRRvheU8na-"
      }
    },
    {
      "cell_type": "code",
      "source": [
        "# Function to handle the classification and counting of sounds\n",
        "def classify_sound_Old(detected_file_path, dataset, filename, region_index, processing_timestamp):\n",
        "    # Create an Output widget to capture print statements\n",
        "    output = Output()\n",
        "\n",
        "    # Display buttons for user classification\n",
        "    button_saw = Button(description=\"SAW\")\n",
        "    button_neither = Button(description=\"Neither\")\n",
        "    button_calls = Button(description=\"CALLS\")\n",
        "\n",
        "    # Create a slider to input counts\n",
        "    slider_saws = IntSlider(value=0, min=0, max=10, description='Number of SAWS:', style={'description_width': 'initial'})\n",
        "    slider_calls = IntSlider(value=0, min=0, max=10, description='Number of CALLS:', style={'description_width': 'initial'})\n",
        "\n",
        "    # Clear output and show the slider based on button clicks\n",
        "    def clear_and_display_slider(slider):\n",
        "        with output:\n",
        "            clear_output(wait=True)\n",
        "            display(button_saw, button_neither, button_calls)\n",
        "            display(slider)\n",
        "\n",
        "    # Define callback functions for button clicks\n",
        "    def on_saw_clicked(b):\n",
        "        clear_and_display_slider(slider_saws)\n",
        "\n",
        "    def on_neither_clicked(b):\n",
        "        with output:\n",
        "            clear_output(wait=True)\n",
        "            dataset.append([filename[:-8], region_index, \"Neither\", 0, processing_timestamp])\n",
        "            print(f\"Recorded 'Neither' for {filename[:-8]}, region {region_index}.\")\n",
        "\n",
        "    def on_calls_clicked(b):\n",
        "        clear_and_display_slider(slider_calls)\n",
        "        clear_and_display_slider(slider_saws)\n",
        "\n",
        "    # Define what happens when the slider changes\n",
        "    def on_saw_slider_change(change):\n",
        "        if change['new'] > 0:\n",
        "            dataset.append([filename[:-8], region_index, \"SAW\", change['new'], processing_timestamp])\n",
        "            with output:\n",
        "                clear_output(wait=True)\n",
        "                print(f\"Recorded {change['new']} SAW(s) for {filename[:-8]}, region {region_index}.\")\n",
        "                display(button_saw, button_neither, button_calls)\n",
        "\n",
        "    def on_calls_slider_change(change):\n",
        "        if change['new'] > 0:\n",
        "            dataset.append([filename[:-8], region_index, \"CALLS\", change['new'], processing_timestamp])\n",
        "            with output:\n",
        "                clear_output(wait=True)\n",
        "                print(f\"Recorded {change['new']} CALL(S) for {filename[:-8]}, region {region_index}.\")\n",
        "                display(button_saw, button_neither, button_calls)\n",
        "\n",
        "    # Assign callback functions to button clicks\n",
        "    button_saw.on_click(on_saw_clicked)\n",
        "    button_neither.on_click(on_neither_clicked)\n",
        "    button_calls.on_click(on_calls_clicked)\n",
        "\n",
        "    # Assign slider change functions\n",
        "    slider_saws.observe(on_saw_slider_change, names='value')\n",
        "    slider_calls.observe(on_calls_slider_change, names='value')\n",
        "\n",
        "    # Display buttons initially\n",
        "    display(button_saw, button_neither, button_calls)\n",
        "    display(output)\n",
        "\n",
        "# Sample usage of classify_sound\n",
        "# classify_sound(\"path/to/detected/file.wav\", dataset, \"filename.wav\", region_index, \"timestamp\")\n"
      ],
      "metadata": {
        "id": "FA-xDZschqM4"
      },
      "execution_count": null,
      "outputs": []
    },
    {
      "cell_type": "code",
      "source": [
        "# Create a Future that will be set once the user has submitted their input\n",
        "user_input_future = None\n",
        "\n",
        "# Function to handle the classification and counting of sounds using text input widget\n",
        "async def classify_sound(detected_file_path, dataset, filename, region_index, processing_timestamp):\n",
        "  global user_input_future  # Use global so it can be set from within the inner function\n",
        "  user_input_future = asyncio.Future()  # Reset future for each classification\n",
        "\n",
        "  # Create buttons for user classification\n",
        "  button_saw = widgets.Button(description=\"Just SAWs\")\n",
        "  button_neither = widgets.Button(description=\"Neither\")\n",
        "  button_calls = widgets.Button(description=\"CALLs & SAWs \")\n",
        "\n",
        "  # Create an output widget to capture user interactions\n",
        "  output = widgets.Output()\n",
        "\n",
        "  # Create a text input widget for manual input of counts\n",
        "  input_box = widgets.Text(description=f'Enter count:', placeholder='Enter number')\n",
        "  submit_button = widgets.Button(description=\"Submit Count\")  # Define the submit button\n",
        "\n",
        "  # Function to clear and display text input for user to enter SAW and/or CALL counts\n",
        "  async def clear_and_ask_input(sound_type):\n",
        "      with output:\n",
        "          clear_output(wait=True)\n",
        "          print(f\"How many {sound_type} were detected?\")\n",
        "          display(input_box, submit_button)  # Display input box and submit button\n",
        "          input_box.value = ''  # Clear previous input if any\n",
        "\n",
        "          # Function triggered when user presses Enter\n",
        "          def on_submit(change):\n",
        "              try:\n",
        "                  count = int(input_box.value)  # Get input from the text box\n",
        "                  if sound_type == \"SAW\":\n",
        "                      dataset[region_index][7] = \"SAW\"   # Sound Type\n",
        "                      dataset[region_index][8] = count   # Total SAWS\n",
        "                  elif sound_type == \"CALLS\":\n",
        "                      dataset[region_index][7] = \"CALLS\" # Sound Type\n",
        "                      dataset[region_index][9] = count   # Total CALLS\n",
        "\n",
        "                  clear_output(wait=True)\n",
        "                  print(f\"Recorded {count} {sound_type}(s) for {filename[:-8]}, region {region_index}.\")\n",
        "              except ValueError:\n",
        "                  clear_output(wait=True)\n",
        "                  print(f\"Invalid input. Please enter a valid number for {sound_type}.\")\n",
        "                  display(input_box)\n",
        "\n",
        "          input_box.on_submit(on_submit)  # Triggered when user presses Enter\n",
        "          await asyncio.sleep(.5)  # Wait for user interaction\n",
        "\n",
        "  # Button click actions  # If user clicked the SAW button\n",
        "  def on_saw_clicked(b):\n",
        "    asyncio.ensure_future(clear_and_ask_input(\"SAW\"))\n",
        "\n",
        "  def on_neither_clicked(b): #If user clicked the neither button\n",
        "    with output:\n",
        "        clear_output(wait=True)\n",
        "        dataset[region_index][7] = \"Neither\"\n",
        "        dataset[region_index][8] = 0  # Total SAWS\n",
        "        dataset[region_index][9] = 0  # Total CALLS\n",
        "        print(f\"Recorded 'Neither' for {filename[:-8]}, region {region_index}.\")\n",
        "        user_input_future.set_result(None)  # Set the future to indicate input is done #new\n",
        "\n",
        "\n",
        "  def on_calls_clicked(b):\n",
        "    asyncio.ensure_future(clear_and_ask_input(\"CALLS\"))\n",
        "    asyncio.ensure_future(clear_and_ask_input(\"SAW\"))\n",
        "\n",
        "  submit_button.on_click(lambda b: user_input_future.set_result(None))  # When user submits count\n",
        "\n",
        "\n",
        "  # Assign button click functions\n",
        "  button_saw.on_click(on_saw_clicked)\n",
        "  button_neither.on_click(on_neither_clicked)\n",
        "  button_calls.on_click(on_calls_clicked)\n",
        "\n",
        "  # Display buttons and output\n",
        "  display(button_saw, button_neither, button_calls)\n",
        "  display(output)\n"
      ],
      "metadata": {
        "id": "wJW3PFq99BQU"
      },
      "execution_count": null,
      "outputs": []
    },
    {
      "cell_type": "markdown",
      "metadata": {
        "id": "FTN10Sqi7mB9"
      },
      "source": [
        "# Detected Noise Extraction\n",
        "Detection of Big Cat Sounds: The backend will analyze the noise-reduced audio files and extract sections where the energy exceeds a certain threshold. These snippets, representing potential Big Cat vocalizations (primarily SAW CALLS), are saved as new files. However, It does sometimes detect other sounds similar to it and extracts them, we would need a user to double check these later."
      ]
    },
    {
      "cell_type": "code",
      "execution_count": null,
      "metadata": {
        "id": "R-Cp570MYWGO"
      },
      "outputs": [],
      "source": [
        "# Function to save the dataset to an Excel file\n",
        "# Example dataset: [['file1', 1, '00:00', '00:05', '.5 seconds', 'August 1st', 'SAW', '1', '0']\n",
        "def save_to_excel(dataset, base_dir):\n",
        "  # Convert the dataset to a pandas DataFrame\n",
        "  df = pd.DataFrame(dataset, columns=[\n",
        "      'File', 'Detected File', 'Region', 'Start Time', 'End Time',\n",
        "      'Duration', 'Processing Timestamp', 'Sound Type',\n",
        "      'Total SAWS', 'Total CALLS'\n",
        "  ])\n",
        "\n",
        "  # Define the output path for the Excel file\n",
        "  output_file_path = os.path.join(base_dir, 'output.xlsx')\n",
        "\n",
        "  # Save the DataFrame to the Excel file (overwriting if it exists)\n",
        "  df.to_excel(output_file_path, index=False)\n",
        "\n",
        "  print(f\"Excel file saved at {output_file_path}\")\n",
        "\n",
        "\n",
        "\n",
        "\n",
        "\n"
      ]
    },
    {
      "cell_type": "markdown",
      "source": [
        "**This Function makes the output interactive allowing the user to verify if the detected noise is a SAW, CALL, or Neither**"
      ],
      "metadata": {
        "id": "zSG9LpWwkOiw"
      }
    },
    {
      "cell_type": "code",
      "execution_count": null,
      "metadata": {
        "id": "IvOuer4JZHq6"
      },
      "outputs": [],
      "source": [
        "# Function to check if the saw_calls_dir (DetectedSawCalls Folder) already contains detected files and report the count\n",
        "def check_and_prompt_for_deletion(saw_calls_dir):\n",
        "  # Check if the directory exists and contains any files\n",
        "  if os.path.exists(saw_calls_dir):\n",
        "    files_in_dir = os.listdir(saw_calls_dir)\n",
        "    file_count = len([file for file in files_in_dir if os.path.isfile(os.path.join(saw_calls_dir, file))])  # Count only files\n",
        "\n",
        "    if file_count > 0:\n",
        "        print(f\"{file_count} detected files found in {saw_calls_dir}.\")\n",
        "        user_input = input(\"Do you want to delete them and rerun detection? (yes/no): \")\n",
        "\n",
        "        if user_input.lower() == 'yes':\n",
        "            # Delete all files in the directory\n",
        "            for file in files_in_dir:\n",
        "                file_path = os.path.join(saw_calls_dir, file)\n",
        "                try:\n",
        "                    if os.path.isfile(file_path):\n",
        "                        os.remove(file_path)\n",
        "                except Exception as e:\n",
        "                    print(f\"Error deleting file {file}: {e}\")\n",
        "            print(f\"All {file_count} old detected files deleted from {saw_calls_dir}.\")\n",
        "            return True  # Proceed with the detection phase\n",
        "        else:\n",
        "            print(\"Skipping the detection phase.\")\n",
        "            return False  # Skip the detection phase\n",
        "  return True  # If no files exist, proceed with the detection phase\n",
        "\n",
        "# For each .wav file, this function extracts regions of interest (audio segments where noise exceeds a given threshold) and saves them as audio clips in a specified directory.\n",
        "async def audio_pipeline(file, dataset, saw_calls_dir):\n",
        "  # Check if the user wants to delete old files before starting detection\n",
        "  if not check_and_prompt_for_deletion(saw_calls_dir):\n",
        "      return  # If the user doesn't want to rerun detection, exit this function\n",
        "\n",
        "  #filename = file[5:-4] # it will call the file like this SMM10131_20240320_143902_reduced\n",
        "  # Extracts the filename without the directory path and file extension so from path/to/file/SMM10131_20240320_143902_reduced.wav to SMM10131_20240320_143902_reduced\n",
        "  filename = os.path.basename(file)[:-4]\n",
        "\n",
        "  # Check if the input file(reduced audio file) exists\n",
        "  if not os.path.exists(file):\n",
        "      print(f\"Reduced File not found: {file}\")\n",
        "      return\n",
        "\n",
        "  # Get the current processing timestamp for debugging purposes\n",
        "  processing_timestamp = datetime.datetime.now().strftime(\"%Y-%m-%d %H:%M:%S\")\n",
        "\n",
        "  # Use auditok to split the audio into regions where the sound reaches a certain energy threshold (hears a possible SAW CALL noise)\n",
        "  audio_regions = auditok.split(file,\n",
        "                                min_dur=0.2,        # minimum duration of a valid audio event (.2 seconds)\n",
        "                                max_dur=3.5,        # maximum duration of a detected sound region (.5 seconds)\n",
        "                                max_silence=0.3,    # Maximum allowed silence within a sound region (0.3 seconds)\n",
        "                                energy_threshold=60 # The energy level that qualifies as a sound to be detected (60)\n",
        "                                )\n",
        "\n",
        "  # If no audio regions were detected, print a message and return.\n",
        "  if not audio_regions:\n",
        "      print(f\"No audio regions detected in {file}. Please, check the energy threshold or file content.\")\n",
        "      return\n",
        "\n",
        "  # Initialize variables to track call counts in 5-second intervals\n",
        "  average_n_calls = 0    # Tracks the average number of calls\n",
        "  curr = 5               # Tracks the average number of calls\n",
        "  curr_count = 0         # Counts how many calls are detected in the current 5-second window\n",
        "  count_list = []        # Stores counts of calls detected in each 5-second window\n",
        "\n",
        "  # Loop through all the detected audio regions\n",
        "  for i, r in enumerate(audio_regions):\n",
        "    #print(\"Region {i}: {r.meta.start:.3f}s -- {r.meta.end:.3f}s\".format(i=i, r=r))\n",
        "    region = i\n",
        "    start = str(datetime.timedelta(seconds=r.meta.start))\n",
        "    end = str(datetime.timedelta(seconds=r.meta.end))\n",
        "\n",
        "    # Calculate the duration of the region\n",
        "    dur = r.meta.end - r.meta.start\n",
        "\n",
        "    # Format duration to include ' seconds' in output spreadsheet\n",
        "    formatted_dur = f\"{dur:.2f} seconds\"  # Convert duration to string with ' seconds'\n",
        "\n",
        "    # Skip regions shorter than 0.04 seconds (to filter out very short noise events)\n",
        "    if dur < 0.04:\n",
        "      print(f\"Skipped, duration = {dur}\")\n",
        "      continue\n",
        "\n",
        "    # Update the call count for the current 5-second interval\n",
        "    if r.meta.start < curr:\n",
        "      curr_count += 1\n",
        "    else:\n",
        "      curr += 5   # Move to the next 5-second interval\n",
        "      count_list.append(curr_count)  # Store the count for the previous interval\n",
        "      curr_count = 1    # Start a new count for the new interval\n",
        "\n",
        "    # Save detected noise region as a .wav audio file in the 'DetectedSawCalls' folder\n",
        "    detected_file_path = os.path.join(saw_calls_dir, f\"region_{r.meta.start:.3f}-{r.meta.end:.3f}.wav\")\n",
        "    r.save(detected_file_path)\n",
        "\n",
        "    # Storing information about the detected region in the dataset for further analysis shown in the output.xlsx\n",
        "    dataset.append([\n",
        "        filename[:-8], # Base Reduced filename\n",
        "        detected_file_path[-28:-4], # Detected filename\n",
        "        i,             # Region index\n",
        "        start[:-4],    # Start time\n",
        "        end[:-4],      # End time\n",
        "        formatted_dur,         # Duration of the detected sound\n",
        "        processing_timestamp,  # Timestamp of processing\n",
        "        None,          # Placeholder for sound type (SAW or CALLS)\n",
        "        0,             # Placeholder for number of SAWS detected\n",
        "        0              # Placeholder for number of CALLS detected\n",
        "        ])\n",
        "        # filename[:-8]: Removes the last 8 characters from the filename(typically the \"_reduced\" suffix)\n",
        "\n",
        "\n",
        "    # Display the audio player with the detected audio file name centered\n",
        "    display(HTML(f\"\"\"\n",
        "        <div style=\"text-align: center;\">\n",
        "            <h3>Detected File: {detected_file_path[-28:-4]}</h3>\n",
        "            {Audio(detected_file_path)._repr_html_()}\n",
        "        </div>\n",
        "    \"\"\"))\n",
        "    #display(Audio(detected_file_path))  # Display the audio player for playback\n",
        "\n",
        "    # Plot the waveform and spectrogram with file name and time range detected\n",
        "    '''plot_waveform_and_spectrogram(detected_file_path, start, end, file)'''\n",
        "\n",
        "    # Create buttons for classification\n",
        "    button_saw = widgets.Button(description=\"SAW\")\n",
        "    button_neither = widgets.Button(description=\"Neither\")\n",
        "    button_call = widgets.Button(description=\"CALL\")\n",
        "    output = widgets.Output()\n",
        "\n",
        "    # Define button click functions\n",
        "    def on_saw_clicked(b):\n",
        "        with output:\n",
        "            dataset[-1][7] = \"SAW\"\n",
        "            dataset[-1][8] += 1  # Increment SAW count\n",
        "            print(\"Classified as SAW\")\n",
        "        clear_output(wait=True)\n",
        "        save_to_excel(dataset, base_dir)  # Automatically save the updated dataset\n",
        "\n",
        "    def on_neither_clicked(b):\n",
        "        with output:\n",
        "            dataset[-1][7] = \"Neither\"\n",
        "            print(\"Classified as Neither\")\n",
        "        clear_output(wait=True)\n",
        "        save_to_excel(dataset, base_dir)  # Automatically save the updated dataset\n",
        "\n",
        "    def on_call_clicked(b):\n",
        "        with output:\n",
        "            dataset[-1][7] = \"CALL\"\n",
        "            dataset[-1][9] += 1  # Increment CALL count\n",
        "            print(\"Classified as CALL\")\n",
        "        clear_output(wait=True)\n",
        "        save_to_excel(dataset, base_dir)  # Automatically save the updated dataset\n",
        "\n",
        "    # Assign the buttons to the event handlers\n",
        "    button_saw.on_click(on_saw_clicked)\n",
        "    button_neither.on_click(on_neither_clicked)\n",
        "    button_call.on_click(on_call_clicked)\n",
        "\n",
        "    # Display buttons and output\n",
        "    display(button_saw, button_neither, button_call, output)\n",
        "\n",
        "    # Await user input and proceed\n",
        "    while dataset[-1][7] is None:\n",
        "        await asyncio.sleep(0.1)  # Small pause to allow for button interaction\n",
        "\n",
        "    # Clear output after each classification\n",
        "    clear_output(wait=True)\n",
        "\n",
        "    # Call the classify_sound function for user to varify the detected noise\n",
        "    '''await classify_sound(detected_file_path, dataset, filename, i, processing_timestamp)'''\n",
        "    #classify_sound_Old(detected_file_path, dataset, filename, i, processing_timestamp)\n",
        "\n",
        "  # Once all regions have been processed, print a summary\n",
        "  print(f\"File processed: {filename[:-8]}\")\n",
        "\n",
        "  # If call counts were recorded, print the average number of calls per 5 seconds and the total number of calls\n",
        "  if count_list:\n",
        "    print(f\"Avg/5sec: {statistics.fmean(count_list)}\")\n",
        "    print(f\"Total number of Detected Saw Calls: {sum(count_list)}\")\n",
        "  else:\n",
        "    print(\"No calls detected in the current 5-second intervals.\")\n",
        "  print(\" \")"
      ]
    },
    {
      "cell_type": "code",
      "execution_count": null,
      "metadata": {
        "id": "2oOCdhKCZHti",
        "colab": {
          "base_uri": "https://localhost:8080/",
          "height": 396
        },
        "outputId": "f1b1b60d-dc01-4c91-df7a-bc549b0974e8"
      },
      "outputs": [
        {
          "output_type": "stream",
          "name": "stdout",
          "text": [
            "1 detected files found in /content/drive/MyDrive/Cat Song Meter Recordings/Capstone Code Review Folder/DetectedSawCalls.\n",
            "Do you want to delete them and rerun detection? (yes/no): yes\n",
            "All 1 old detected files deleted from /content/drive/MyDrive/Cat Song Meter Recordings/Capstone Code Review Folder/DetectedSawCalls.\n"
          ]
        },
        {
          "output_type": "error",
          "ename": "AttributeError",
          "evalue": "type object 'datetime.datetime' has no attribute 'datetime'",
          "traceback": [
            "\u001b[0;31m---------------------------------------------------------------------------\u001b[0m",
            "\u001b[0;31mAttributeError\u001b[0m                            Traceback (most recent call last)",
            "\u001b[0;32m<ipython-input-32-4bccc74b46b2>\u001b[0m in \u001b[0;36m<cell line: 4>\u001b[0;34m()\u001b[0m\n\u001b[1;32m      3\u001b[0m \u001b[0;31m# iterating over all noise reduced files and applying the above function on each\u001b[0m\u001b[0;34m\u001b[0m\u001b[0;34m\u001b[0m\u001b[0m\n\u001b[1;32m      4\u001b[0m \u001b[0;32mfor\u001b[0m \u001b[0mfile\u001b[0m \u001b[0;32min\u001b[0m \u001b[0maudio_list\u001b[0m\u001b[0;34m:\u001b[0m\u001b[0;34m\u001b[0m\u001b[0;34m\u001b[0m\u001b[0m\n\u001b[0;32m----> 5\u001b[0;31m   \u001b[0;32mawait\u001b[0m \u001b[0maudio_pipeline\u001b[0m\u001b[0;34m(\u001b[0m\u001b[0mfile\u001b[0m\u001b[0;34m,\u001b[0m \u001b[0mdataset\u001b[0m\u001b[0;34m,\u001b[0m \u001b[0msaw_calls_dir\u001b[0m\u001b[0;34m)\u001b[0m\u001b[0;34m\u001b[0m\u001b[0;34m\u001b[0m\u001b[0m\n\u001b[0m",
            "\u001b[0;32m<ipython-input-19-008f85b79294>\u001b[0m in \u001b[0;36maudio_pipeline\u001b[0;34m(file, dataset, saw_calls_dir)\u001b[0m\n\u001b[1;32m     42\u001b[0m \u001b[0;34m\u001b[0m\u001b[0m\n\u001b[1;32m     43\u001b[0m   \u001b[0;31m# Get the current processing timestamp for debugging purposes\u001b[0m\u001b[0;34m\u001b[0m\u001b[0;34m\u001b[0m\u001b[0m\n\u001b[0;32m---> 44\u001b[0;31m   \u001b[0mprocessing_timestamp\u001b[0m \u001b[0;34m=\u001b[0m \u001b[0mdatetime\u001b[0m\u001b[0;34m.\u001b[0m\u001b[0mdatetime\u001b[0m\u001b[0;34m.\u001b[0m\u001b[0mnow\u001b[0m\u001b[0;34m(\u001b[0m\u001b[0;34m)\u001b[0m\u001b[0;34m.\u001b[0m\u001b[0mstrftime\u001b[0m\u001b[0;34m(\u001b[0m\u001b[0;34m\"%Y-%m-%d %H:%M:%S\"\u001b[0m\u001b[0;34m)\u001b[0m\u001b[0;34m\u001b[0m\u001b[0;34m\u001b[0m\u001b[0m\n\u001b[0m\u001b[1;32m     45\u001b[0m \u001b[0;34m\u001b[0m\u001b[0m\n\u001b[1;32m     46\u001b[0m   \u001b[0;31m# Use auditok to split the audio into regions where the sound reaches a certain energy threshold (hears a possible SAW CALL noise)\u001b[0m\u001b[0;34m\u001b[0m\u001b[0;34m\u001b[0m\u001b[0m\n",
            "\u001b[0;31mAttributeError\u001b[0m: type object 'datetime.datetime' has no attribute 'datetime'"
          ]
        }
      ],
      "source": [
        "dataset = [] #This holds all the data about the detected noise that will be placed in a excel file\n",
        "\n",
        "# iterating over all noise reduced files and applying the above function on each\n",
        "for file in audio_list:\n",
        "  await audio_pipeline(file, dataset, saw_calls_dir)"
      ]
    },
    {
      "cell_type": "code",
      "source": [
        "import ipywidgets as widgets\n",
        "from IPython.display import display\n",
        "import os\n",
        "import pandas as pd\n",
        "from datetime import datetime\n",
        "\n",
        "# Example dataset with columns\n",
        "dataset = [['file1', 1, '00:00', '00:05', '5 sec', '', '', 0, 0],\n",
        "           ['file2', 2, '00:05', '00:10', '5 sec', '', '', 0, 0]]\n",
        "\n",
        "base_dir = './'  # Adjust this to your actual base directory for saving\n",
        "\n",
        "# Function to save the Excel file after classification\n",
        "def save_to_excel(dataset, base_dir):\n",
        "    df = pd.DataFrame(dataset, columns=['File', 'Detected File', 'Region', 'Start Time', 'End Time', 'Duration',\n",
        "                                        'Processing Timestamp', 'Sound Type', 'Total SAWS', 'Total CALLS'])\n",
        "    output_file_path = os.path.join(base_dir, 'output.xlsx')\n",
        "    df.to_excel(output_file_path, index=False)\n",
        "    print(f\"Excel file saved at {output_file_path}\")\n",
        "\n",
        "# Function to display buttons and classify the sound type\n",
        "def display_buttons_and_get_classification(dataset, base_dir):\n",
        "    # Initialize the buttons\n",
        "    button_saw = widgets.Button(description=\"SAW\")\n",
        "    button_neither = widgets.Button(description=\"Neither\")\n",
        "    button_call = widgets.Button(description=\"CALL\")\n",
        "\n",
        "    # Define button click functions\n",
        "    def on_saw_clicked(b):\n",
        "        print(\"SAW button clicked\")\n",
        "        dataset[-1][7] = \"SAW\"\n",
        "        dataset[-1][8] += 1  # Increment the count of SAWS\n",
        "        save_to_excel(dataset, base_dir)\n",
        "\n",
        "    def on_neither_clicked(b):\n",
        "        print(\"Neither button clicked\")\n",
        "        dataset[-1][7] = \"Neither\"\n",
        "        save_to_excel(dataset, base_dir)\n",
        "\n",
        "    def on_call_clicked(b):\n",
        "      print(f\"CALL button clicked\")\n",
        "      print(f\"Current dataset row: {dataset[-1]}\")  # Print current row for debugging\n",
        "      print(\"CALL button clicked\")\n",
        "      dataset[-1][7] = \"CALL\"\n",
        "      dataset[-1][9] += 1  # Increment the count of CALLS\n",
        "      save_to_excel(dataset, base_dir)\n",
        "\n",
        "\n",
        "    # Ensure the row has enough elements\n",
        "    if len(dataset[-1]) < 10:\n",
        "        print(f\"Error: dataset row does not have enough elements. Current length: {len(dataset[-1])}\")\n",
        "        return\n",
        "\n",
        "    dataset[-1][7] = \"CALL\"\n",
        "    dataset[-1][9] += 1  # Increment the count of CALLS\n",
        "    save_to_excel(dataset, base_dir)\n",
        "\n",
        "\n",
        "    # Assign button click events\n",
        "    button_saw.on_click(on_saw_clicked)\n",
        "    button_neither.on_click(on_neither_clicked)\n",
        "    button_call.on_click(on_call_clicked)\n",
        "\n",
        "    # Display buttons\n",
        "    display(button_saw, button_neither, button_call)\n",
        "\n",
        "# Run the function to test\n",
        "display_buttons_and_get_classification(dataset, base_dir)\n"
      ],
      "metadata": {
        "colab": {
          "base_uri": "https://localhost:8080/",
          "height": 35
        },
        "id": "EZFt7fRLCOUY",
        "outputId": "7fdd8d2a-c680-4fe2-f592-fadcec423942"
      },
      "execution_count": null,
      "outputs": [
        {
          "output_type": "stream",
          "name": "stdout",
          "text": [
            "Error: dataset row does not have enough elements. Current length: 9\n"
          ]
        }
      ]
    },
    {
      "cell_type": "markdown",
      "metadata": {
        "id": "yI1jY1ttMw6P"
      },
      "source": [
        "# Results Through Excel"
      ]
    },
    {
      "cell_type": "code",
      "source": [
        "from IPython.display import display, Audio, HTML\n",
        "import ipywidgets as widgets\n",
        "import pandas as pd\n",
        "import os\n",
        "from scipy.io import wavfile\n",
        "\n",
        "# Load the dataset from the Excel file\n",
        "def load_dataset(output_file_path):\n",
        "    return pd.read_excel(output_file_path)\n",
        "\n",
        "# Function to format time for file naming\n",
        "def format_time_for_filename(time_str):\n",
        "    # Convert \"0:27:17.95\" to \"1627.950\"\n",
        "    time_parts = time_str.split(':')\n",
        "    minutes = int(time_parts[0])\n",
        "    seconds = float(time_parts[1]) + (minutes * 60)\n",
        "    return f\"{seconds:.3f}\"\n",
        "\n",
        "# Function to display and classify each detected noise\n",
        "def review_and_classify_noises(dataset, detected_sounds_dir, output_file_path):\n",
        "\n",
        "    for index, row in dataset.iterrows():\n",
        "        if pd.isnull(row['Sound Type']):  # Only review unclassified sounds\n",
        "            # Ensure Start Time and End Time are formatted as floats\n",
        "            start_time = float(row['Start Time'].split(':')[2]) + float(row['Start Time'].split(':')[1]) * 60 + float(row['Start Time'].split(':')[0]) * 3600\n",
        "            end_time = float(row['End Time'].split(':')[2]) + float(row['End Time'].split(':')[1]) * 60 + float(row['End Time'].split(':')[0]) * 3600\n",
        "\n",
        "            detected_file_path = os.path.join(detected_sounds_dir, f\"region_{start_time:.3f}-{end_time:.3f}.wav\")\n",
        "\n",
        "\n",
        "\n",
        "    def display_noise(index):\n",
        "      if index < len(dataset) and pd.isnull(dataset.at[index, 'Sound Type']):\n",
        "          # Ensure Start Time and End Time are formatted as floats\n",
        "          start_time = format_time_for_filename(dataset.at[index, 'Start Time'])\n",
        "          end_time = format_time_for_filename(dataset.at[index, 'End Time'])\n",
        "\n",
        "          detected_file_path = os.path.join(detected_sounds_dir, f\"region_{start_time}-{end_time}.wav\")\n",
        "\n",
        "          # Check if the detected file exists before displaying\n",
        "          if os.path.exists(detected_file_path):\n",
        "              # Load the audio file to get the sampling rate\n",
        "              rate, _ = wavfile.read(detected_file_path)\n",
        "\n",
        "              # Display the detected audio\n",
        "              display(HTML(f\"\"\"\n",
        "                  <div style=\"text-align: center;\">\n",
        "                      <h3>Detected File: {detected_file_path[-28:-4]}</h3>\n",
        "                      {Audio(detected_file_path, rate=rate)._repr_html_()}\n",
        "                  </div>\n",
        "              \"\"\"))\n",
        "              # Here, you would call your plot_waveform_and_spectrogram function as needed\n",
        "              # Check if the detected file exists before displaying\n",
        "              if os.path.exists(detected_file_path):\n",
        "                  # Load the audio file to get the sampling rate\n",
        "                  rate, _ = wavfile.read(detected_file_path)\n",
        "\n",
        "                  # Display the detected audio, waveform, and spectrogram\n",
        "                  display(HTML(f\"\"\"\n",
        "                      <div style=\"text-align: center;\">\n",
        "                          <h3>Detected File: {detected_file_path[-28:-4]}</h3>\n",
        "                          {Audio(detected_file_path, rate=rate)._repr_html_()}\n",
        "                      </div>\n",
        "                  \"\"\"))\n",
        "                  plot_waveform_and_spectrogram(detected_file_path, row['Start Time'], row['End Time'], row['File'])\n",
        "\n",
        "              # Create classification buttons\n",
        "              button_saw = widgets.Button(description=\"SAW\")\n",
        "              button_neither = widgets.Button(description=\"Neither\")\n",
        "              button_calls = widgets.Button(description=\"CALLS\")\n",
        "              input_box = widgets.IntText(description='Count:', placeholder='Enter number', value=0)\n",
        "              submit_button = widgets.Button(description=\"Submit\")\n",
        "              output = widgets.Output()\n",
        "\n",
        "              classification = None  # To hold the selected classification\n",
        "\n",
        "              def on_saw_clicked(b):\n",
        "                  nonlocal classification\n",
        "                  classification = \"SAW\"\n",
        "                  output.clear_output()\n",
        "                  with output:\n",
        "                      print(\"You selected: SAW\")\n",
        "\n",
        "              def on_neither_clicked(b):\n",
        "                  nonlocal classification\n",
        "                  classification = \"Neither\"\n",
        "                  output.clear_output()\n",
        "                  with output:\n",
        "                      print(\"You selected: Neither\")\n",
        "                  input_box.value = 0  # Reset count for 'Neither'\n",
        "\n",
        "              def on_calls_clicked(b):\n",
        "                  nonlocal classification\n",
        "                  classification = \"CALLS\"\n",
        "                  output.clear_output()\n",
        "                  with output:\n",
        "                      print(\"You selected: CALLS\")\n",
        "\n",
        "              button_saw.on_click(on_saw_clicked)\n",
        "              button_neither.on_click(on_neither_clicked)\n",
        "              button_calls.on_click(on_calls_clicked)\n",
        "\n",
        "              def on_submit_clicked(b):\n",
        "                  if classification is not None:\n",
        "                      count = input_box.value\n",
        "                      update_dataset(index, classification, count)\n",
        "                      next_noise()\n",
        "                  else:\n",
        "                      print(\"Please select a classification before submitting.\")\n",
        "\n",
        "              submit_button.on_click(on_submit_clicked)\n",
        "\n",
        "              display(button_saw, button_neither, button_calls, input_box, submit_button, output)\n",
        "          else:\n",
        "              print(f\"File not found: {detected_file_path}\")\n",
        "              next_noise()  # Move to the next noise if the file doesn't exist\n",
        "      else:\n",
        "          print(\"No more unclassified noises.\")\n",
        "\n",
        "    def next_noise():\n",
        "        nonlocal index\n",
        "        index += 1\n",
        "        # Clear previous output\n",
        "        clear_output(wait=True)  # Clear previous output\n",
        "        display_noise(index)\n",
        "\n",
        "\n",
        "    # Start displaying the first noise\n",
        "    display_noise(index)\n",
        "\n",
        "# Function to update the dataset with classification and counts\n",
        "def update_dataset(index, sound_type, count):\n",
        "    dataset.at[index, 'Sound Type'] = sound_type\n",
        "    if sound_type == \"SAW\":\n",
        "        dataset.at[index, 'Total SAWS'] = int(count)\n",
        "    elif sound_type == \"CALLS\":\n",
        "        dataset.at[index, 'Total CALLS'] = int(count)\n",
        "\n",
        "    # Save the updated dataset back to the Excel file\n",
        "    dataset.to_excel(output_file_path, index=False)\n",
        "    print(f\"Updated: {sound_type} with {count}\")\n",
        "\n",
        "# Load the dataset and review noises\n",
        "output_file_path = '/content/drive/MyDrive/Cat Song Meter Recordings (1)/Capstone Code Review Folder/output.xlsx'  # Replace with your output file path\n",
        "detected_sounds_dir = '/content/drive/MyDrive/Cat Song Meter Recordings (1)/Capstone Code Review Folder/DetectedSawCalls'  # Replace with your detected sounds directory\n",
        "dataset = load_dataset(output_file_path)\n",
        "\n",
        "# Print dataset and unclassified noises count for debugging\n",
        "print(dataset)\n",
        "unclassified_count = dataset['Sound Type'].isnull().sum()\n",
        "print(f\"Unclassified noises count: {unclassified_count}\")\n",
        "\n",
        "# Convert the dataset to a DataFrame (assuming dataset is a list of lists)\n",
        "df = pd.DataFrame(dataset, columns=['File', 'Region', 'Start Time', 'End Time', 'Duration', 'Processing Timestamp', 'Sound Type', 'Total SAWS', 'Total CALLS'])\n",
        "\n",
        "# Then pass the DataFrame instead of the list\n",
        "review_and_classify_noises(df, detected_sounds_dir, output_file_path)\n"
      ],
      "metadata": {
        "colab": {
          "base_uri": "https://localhost:8080/",
          "height": 367
        },
        "id": "j9A3V4tLAQ6K",
        "outputId": "a121b545-e8d3-4c84-f2f6-e3c97964d38d"
      },
      "execution_count": null,
      "outputs": [
        {
          "output_type": "stream",
          "name": "stdout",
          "text": [
            "Empty DataFrame\n",
            "Columns: [File, Detected File, Region, Start Time, End Time, Duration, Processing Timestamp, Sound Type, Total SAWS, Total CALLS]\n",
            "Index: []\n",
            "Unclassified noises count: 0\n"
          ]
        },
        {
          "output_type": "error",
          "ename": "UnboundLocalError",
          "evalue": "local variable 'index' referenced before assignment",
          "traceback": [
            "\u001b[0;31m---------------------------------------------------------------------------\u001b[0m",
            "\u001b[0;31mUnboundLocalError\u001b[0m                         Traceback (most recent call last)",
            "\u001b[0;32m<ipython-input-17-836f0a7f1c33>\u001b[0m in \u001b[0;36m<cell line: 157>\u001b[0;34m()\u001b[0m\n\u001b[1;32m    155\u001b[0m \u001b[0;34m\u001b[0m\u001b[0m\n\u001b[1;32m    156\u001b[0m \u001b[0;31m# Then pass the DataFrame instead of the list\u001b[0m\u001b[0;34m\u001b[0m\u001b[0;34m\u001b[0m\u001b[0m\n\u001b[0;32m--> 157\u001b[0;31m \u001b[0mreview_and_classify_noises\u001b[0m\u001b[0;34m(\u001b[0m\u001b[0mdf\u001b[0m\u001b[0;34m,\u001b[0m \u001b[0mdetected_sounds_dir\u001b[0m\u001b[0;34m,\u001b[0m \u001b[0moutput_file_path\u001b[0m\u001b[0;34m)\u001b[0m\u001b[0;34m\u001b[0m\u001b[0;34m\u001b[0m\u001b[0m\n\u001b[0m",
            "\u001b[0;32m<ipython-input-17-836f0a7f1c33>\u001b[0m in \u001b[0;36mreview_and_classify_noises\u001b[0;34m(dataset, detected_sounds_dir, output_file_path)\u001b[0m\n\u001b[1;32m    127\u001b[0m \u001b[0;34m\u001b[0m\u001b[0m\n\u001b[1;32m    128\u001b[0m     \u001b[0;31m# Start displaying the first noise\u001b[0m\u001b[0;34m\u001b[0m\u001b[0;34m\u001b[0m\u001b[0m\n\u001b[0;32m--> 129\u001b[0;31m     \u001b[0mdisplay_noise\u001b[0m\u001b[0;34m(\u001b[0m\u001b[0mindex\u001b[0m\u001b[0;34m)\u001b[0m\u001b[0;34m\u001b[0m\u001b[0;34m\u001b[0m\u001b[0m\n\u001b[0m\u001b[1;32m    130\u001b[0m \u001b[0;34m\u001b[0m\u001b[0m\n\u001b[1;32m    131\u001b[0m \u001b[0;31m# Function to update the dataset with classification and counts\u001b[0m\u001b[0;34m\u001b[0m\u001b[0;34m\u001b[0m\u001b[0m\n",
            "\u001b[0;31mUnboundLocalError\u001b[0m: local variable 'index' referenced before assignment"
          ]
        }
      ]
    },
    {
      "cell_type": "code",
      "source": [
        "unclassified_count = dataset['Sound Type'].isnull().sum()\n",
        "print(f\"Unclassified noises count: {unclassified_count}\")\n",
        "\n",
        "print(dataset.columns)\n",
        "\n",
        "print(df.shape)\n",
        "print(df.columns)\n",
        "\n"
      ],
      "metadata": {
        "colab": {
          "base_uri": "https://localhost:8080/"
        },
        "id": "QZq6QdGLOm9V",
        "outputId": "049f7cb5-2229-49d1-8c3a-bd7932f143f1"
      },
      "execution_count": null,
      "outputs": [
        {
          "output_type": "stream",
          "name": "stdout",
          "text": [
            "Unclassified noises count: 7\n",
            "Index(['File', 'Region', 'Start Time', 'End Time', 'Duration',\n",
            "       'Processing Timestamp', 'Sound Type', 'Total SAWS', 'Total CALLS'],\n",
            "      dtype='object')\n",
            "(7, 9)\n",
            "Index(['File', 'Region', 'Start Time', 'End Time', 'Duration',\n",
            "       'Processing Timestamp', 'Sound Type', 'Total SAWS', 'Total CALLS'],\n",
            "      dtype='object')\n"
          ]
        }
      ]
    },
    {
      "cell_type": "code",
      "execution_count": null,
      "metadata": {
        "id": "wmaLoQv33vE8"
      },
      "outputs": [],
      "source": [
        "#Habibul's notes\n",
        "# display visuals in the website. Here's more information on it.  https://github.com/amsehili/auditok\n",
        "#etl process extract transform load\n",
        "#maybe theirs a google drive api to easly connect it\n",
        "#download audacity to see how the audio clip would look like."
      ]
    },
    {
      "cell_type": "code",
      "execution_count": null,
      "metadata": {
        "id": "LHiPKEjJ9jI3"
      },
      "outputs": [],
      "source": [
        "# Habibul's extra helpful code for testing purposes:\n",
        "\n",
        "# Prints all the saved files in a specific folder\n",
        "file_list = glob.glob('/content/drive/MyDrive/Cat Song Meter Recordings/ReducedAudio/*')\n",
        "print(file_list)\n",
        "\n",
        "#To save the new audio files into a different folder\n",
        "destination_path = '/content/drive/MyDrive/Cat Song Meter Recordings/ReducedAudio/output.txt'\n",
        "\n",
        "# Move the file to the specified directory in Google Drive\n",
        "!cp output.txt \"$destination_path\"\n",
        "\n",
        "\n",
        "''' If you want to hear a specific audio for testing purposes'''\n",
        "from IPython.display import Audio\n",
        "\n",
        "# Specify the path to your audio file\n",
        "audio_file_path = '/content/drive/MyDrive/Cat Song Meter Recordings (1)/Capstone Code Review Folder/DetectedSawCalls/region_1637.950-1638.500.wav'\n",
        "\n",
        "# Create an audio player\n",
        "audio_player = Audio(audio_file_path)\n",
        "\n",
        "# Play the audio\n",
        "audio_player\n",
        "\n"
      ]
    },
    {
      "cell_type": "markdown",
      "metadata": {
        "id": "akDCPh9FSgaD"
      },
      "source": [
        "#Habibul's Test Code to upload reduced audio and detected audio to the drive"
      ]
    },
    {
      "cell_type": "code",
      "execution_count": null,
      "metadata": {
        "colab": {
          "base_uri": "https://localhost:8080/",
          "height": 358
        },
        "id": "PJZoZNKFSn4D",
        "outputId": "c035e7d0-eea3-4c25-e1c4-5fbfc3c40818"
      },
      "outputs": [
        {
          "ename": "NotADirectoryError",
          "evalue": "[Errno 20] Not a directory: '/content/drive/MyDrive/Cat Song Meter Recordings (1)/Amur Leopard/Dec 15 - Dec 21 7257 inside/SMM07257_20221215_133531.wav/ReducedAudio'",
          "output_type": "error",
          "traceback": [
            "\u001b[0;31m---------------------------------------------------------------------------\u001b[0m",
            "\u001b[0;31mNotADirectoryError\u001b[0m                        Traceback (most recent call last)",
            "\u001b[0;32m<ipython-input-74-49b97dfd42d9>\u001b[0m in \u001b[0;36m<cell line: 11>\u001b[0;34m()\u001b[0m\n\u001b[1;32m      9\u001b[0m \u001b[0;34m\u001b[0m\u001b[0m\n\u001b[1;32m     10\u001b[0m \u001b[0;31m# Ensure directories exist\u001b[0m\u001b[0;34m\u001b[0m\u001b[0;34m\u001b[0m\u001b[0m\n\u001b[0;32m---> 11\u001b[0;31m \u001b[0mos\u001b[0m\u001b[0;34m.\u001b[0m\u001b[0mmakedirs\u001b[0m\u001b[0;34m(\u001b[0m\u001b[0mreduced_audio_dir\u001b[0m\u001b[0;34m,\u001b[0m \u001b[0mexist_ok\u001b[0m\u001b[0;34m=\u001b[0m\u001b[0;32mTrue\u001b[0m\u001b[0;34m)\u001b[0m\u001b[0;34m\u001b[0m\u001b[0;34m\u001b[0m\u001b[0m\n\u001b[0m\u001b[1;32m     12\u001b[0m \u001b[0mos\u001b[0m\u001b[0;34m.\u001b[0m\u001b[0mmakedirs\u001b[0m\u001b[0;34m(\u001b[0m\u001b[0msaw_calls_dir\u001b[0m\u001b[0;34m,\u001b[0m \u001b[0mexist_ok\u001b[0m\u001b[0;34m=\u001b[0m\u001b[0;32mTrue\u001b[0m\u001b[0;34m)\u001b[0m\u001b[0;34m\u001b[0m\u001b[0;34m\u001b[0m\u001b[0m\n\u001b[1;32m     13\u001b[0m \u001b[0;34m\u001b[0m\u001b[0m\n",
            "\u001b[0;32m/usr/lib/python3.10/os.py\u001b[0m in \u001b[0;36mmakedirs\u001b[0;34m(name, mode, exist_ok)\u001b[0m\n\u001b[1;32m    223\u001b[0m             \u001b[0;32mreturn\u001b[0m\u001b[0;34m\u001b[0m\u001b[0;34m\u001b[0m\u001b[0m\n\u001b[1;32m    224\u001b[0m     \u001b[0;32mtry\u001b[0m\u001b[0;34m:\u001b[0m\u001b[0;34m\u001b[0m\u001b[0;34m\u001b[0m\u001b[0m\n\u001b[0;32m--> 225\u001b[0;31m         \u001b[0mmkdir\u001b[0m\u001b[0;34m(\u001b[0m\u001b[0mname\u001b[0m\u001b[0;34m,\u001b[0m \u001b[0mmode\u001b[0m\u001b[0;34m)\u001b[0m\u001b[0;34m\u001b[0m\u001b[0;34m\u001b[0m\u001b[0m\n\u001b[0m\u001b[1;32m    226\u001b[0m     \u001b[0;32mexcept\u001b[0m \u001b[0mOSError\u001b[0m\u001b[0;34m:\u001b[0m\u001b[0;34m\u001b[0m\u001b[0;34m\u001b[0m\u001b[0m\n\u001b[1;32m    227\u001b[0m         \u001b[0;31m# Cannot rely on checking for EEXIST, since the operating system\u001b[0m\u001b[0;34m\u001b[0m\u001b[0;34m\u001b[0m\u001b[0m\n",
            "\u001b[0;31mNotADirectoryError\u001b[0m: [Errno 20] Not a directory: '/content/drive/MyDrive/Cat Song Meter Recordings (1)/Amur Leopard/Dec 15 - Dec 21 7257 inside/SMM07257_20221215_133531.wav/ReducedAudio'"
          ]
        }
      ],
      "source": [
        "# Directory paths\n",
        "base_dir = '/content/drive/MyDrive/Cat Song Meter Recordings (1)/Amur Leopard/Dec 15 - Dec 21 7257 inside'\n",
        "reduced_audio_dir = os.path.join(base_dir, 'ReducedAudio')  # Folder for reduced audio\n",
        "saw_calls_dir = os.path.join(base_dir, 'DetectedSawCalls')  # Folder for detected saw calls\n",
        "\n",
        "\n",
        "#reduced_audio_dir = f'{base_dir}/ReducedAudio'  # Folder for reduced audio\n",
        "#saw_calls_dir = f'{base_dir}/DetectedSawCalls'  # Folder for detected saw calls\n",
        "\n",
        "# Ensure directories exist\n",
        "os.makedirs(reduced_audio_dir, exist_ok=True)\n",
        "os.makedirs(saw_calls_dir, exist_ok=True)\n",
        "\n",
        "#extracts path for .wav files\n",
        "#file_list = glob.glob('/content/drive/MyDrive/Cat Song Meter Recordings/Amur Leopard/Dec 15-Dec 21 7257 inside/*.wav')#Hammadas #extract all files with wav\n",
        "#file_list = glob.glob(f'{base_dir}/*.wav') #extract all files with wav\n",
        "file_list = glob.glob(os.path.join(base_dir, '*.wav'))\n",
        "    #* prints keep everything before the *\n",
        "    # keep up to '/content/drive/MyDrive/Cat Song Meter Recordings/...    when extrating a file\n",
        "\n",
        "#print all the files in that file_list\n",
        "  #file_list\n",
        "\n",
        "\n",
        "#extracts path for .wav files that have no background noise\n",
        "#audio_list = glob.glob('data/*_reduced.wav') #Hammad's code\n",
        "audio_list = glob.glob(os.path.join(reduced_audio_dir, '*_reduced.wav'))\n",
        "#audio_list = glob.glob(f'{reduced_audio_dir}/*_reduced.wav') #Habibul's code\n",
        "print(f\"File path for new reduced noise audio: {audio_list}\")\n",
        "\n",
        "\n",
        "#Noise Reduction Phase\n",
        "\n",
        "# iterates over .wav files and eliminates background noise\n",
        "# saves modified audio in the following format --> filename_reduced.wav\n",
        "for file in file_list:\n",
        "    rate, data = wavfile.read(file)\n",
        "    filename = os.path.basename(file)[:-4]\n",
        "    #directory = \"data/\"   #all noise reduced files goes into data directory\n",
        "    # perform noise reduction\n",
        "    reduced_noise = nr.reduce_noise(y=data, sr=rate)\n",
        "\n",
        "    #new_name = filename + \"_reduced.wav\" #Hammad's code\n",
        "    #write(directory+new_name, rate, reduced_noise) #Hammad's codev\n",
        "\n",
        "    new_name = f\"{filename}_reduced.wav\"\n",
        "    write(os.path.join(reduced_audio_dir, new_name), rate, reduced_noise)  # Save reduced audio to the reduced_audio_dir\n",
        "\n",
        "    #new_name = f'{reduced_audio_dir}/{filename}_reduced.wav' #Habibul's code\n",
        "    #write(new_name, rate, reduced_noise) #Habibul's code\n",
        "print(\"Noise reduction is complete.\")\n",
        "\n",
        "\n",
        "#extracts path for .wav files that have no background noise\n",
        "#audio_list = glob.glob('data/*_reduced.wav') #Hammad's code\n",
        "audio_list = glob.glob(os.path.join(reduced_audio_dir, '*_reduced.wav'))\n",
        "#audio_list = glob.glob(f'{reduced_audio_dir}/*_reduced.wav') #Habibul's code\n",
        "print(f\"File path for new reduced noise audio: {audio_list}\")\n",
        "\n",
        "\n",
        "\n",
        "#Detected Noise Extraction Phase\n",
        "\n",
        "# for each .wav file, extracts regions of interest and saves them as clips\n",
        "def audio_pipeline(file, dataset):\n",
        "    #filename = file[5:-4] # it will call the file like this SMM10131_20240320_143902_reduced\n",
        "    filename = os.path.basename(file)[:-4]\n",
        "    #os.mkdir(\"data//\"+filename)\n",
        "    #os.makedirs(\"data//\"+filename,exist_ok=True) #Hammad's code #creating new folder with the same name under the data file\n",
        "\n",
        "    #Create a folder for detected regions under saw calls folder\n",
        "    #detected_folder = f'{saw_calls_dir}/{filename}'\n",
        "    #os.makedirs(detected_folder, exist_ok=True)\n",
        "\n",
        "    audio_regions = auditok.split(file,\n",
        "                                  min_dur=0.2,        # minimum duration of a valid audio event in seconds\n",
        "                                  max_dur=0.5,        # maximum duration of an event\n",
        "                                  max_silence=0.3,    # maximum duration of tolerated continuous silence within an event\n",
        "                                  energy_threshold=60 # threshold of detection\n",
        "                                 )\n",
        "    average_n_calls = 0\n",
        "    curr = 5\n",
        "    curr_count = 0\n",
        "    count_list = []\n",
        "\n",
        "    for i, r in enumerate(audio_regions):\n",
        "        #print(\"Region {i}: {r.meta.start:.3f}s -- {r.meta.end:.3f}s\".format(i=i, r=r))\n",
        "        region = i\n",
        "        start = str(datetime.timedelta(seconds=r.meta.start))\n",
        "        end = str(datetime.timedelta(seconds=r.meta.end))\n",
        "\n",
        "        #\n",
        "\n",
        "        dur = r.meta.end - r.meta.start\n",
        "        if dur < 0.04:\n",
        "          print(f\"Skipped, duration = {dur}\")\n",
        "          continue\n",
        "\n",
        "        #\n",
        "\n",
        "        if r.meta.start < curr:\n",
        "          curr_count += 1\n",
        "        else:\n",
        "          curr += 5\n",
        "          count_list.append(curr_count)\n",
        "          curr_count = 1\n",
        "\n",
        "        #\n",
        "\n",
        "        dataset.append([filename[:-8], i, start[:-4], end[:-4]])\n",
        "        #r.save(\"data//\" + filename + \"//region_{meta.start:.3f}-{meta.end:.3f}.wav\")  #Hammad's code\n",
        "\n",
        "        # Save detected region as .wav in detected saw calls folder\n",
        "        #r.save(f'{detected_folder}/region_{r.meta.start:.3f}-{r.meta.end:.3f}.wav')\n",
        "        r.save(os.path.join(saw_calls_dir, f\"region_{r.meta.start:.3f}-{r.meta.end:.3f}.wav\")) #Habibul's\n",
        "\n",
        "\n",
        "    print(f\"{filename[:-8]}\")\n",
        "    print(f\"Avg/5sec : {statistics.fmean(count_list)}\")\n",
        "    print(f\"Total no. of Detected Saw Calls: {sum(count_list)}\")\n",
        "    print(\" \")\n",
        "\n",
        "\n",
        "dataset = []\n",
        "# iterating over all noise reduced files and applying the above function on each\n",
        "for file in audio_list:\n",
        "    audio_pipeline(file, dataset)"
      ]
    },
    {
      "cell_type": "code",
      "execution_count": null,
      "metadata": {
        "colab": {
          "base_uri": "https://localhost:8080/"
        },
        "id": "QYhcJ2pIVePN",
        "outputId": "6f216943-a582-4944-ef14-4a98cc34430b"
      },
      "outputs": [
        {
          "name": "stdout",
          "output_type": "stream",
          "text": [
            "No reduced noise files found.\n"
          ]
        }
      ],
      "source": [
        "import matplotlib.pyplot as plt\n",
        "\n",
        "# Function to visualize the waveform of an audio file\n",
        "def plot_waveform(file_path):\n",
        "    rate, data = wavfile.read(file_path)\n",
        "\n",
        "    # Plot the waveform\n",
        "    plt.figure(figsize=(14, 5))\n",
        "    plt.plot(data)\n",
        "    plt.title(f'Waveform of {os.path.basename(file_path)}')\n",
        "    plt.xlabel('Sample Number')\n",
        "    plt.ylabel('Amplitude')\n",
        "    plt.xlim(0, len(data))  # Limit x-axis to the length of the audio data\n",
        "    plt.show()\n",
        "\n",
        "# Call the function to visualize one of the extracted noises\n",
        "if audio_list:  # Check if audio_list is not empty\n",
        "    plot_waveform(audio_list[0])  # Visualize the first reduced noise file\n",
        "else:\n",
        "    print(\"No reduced noise files found.\")\n"
      ]
    },
    {
      "cell_type": "markdown",
      "metadata": {
        "id": "_9diRY01ooyf"
      },
      "source": [
        "Use the code below to display waveform and spectogram of a single audio file."
      ]
    },
    {
      "cell_type": "code",
      "execution_count": null,
      "metadata": {
        "colab": {
          "base_uri": "https://localhost:8080/"
        },
        "id": "YJKQ8LYYojZS",
        "outputId": "ef7b4f1f-4d5b-4088-9ac4-2e86c64fc3f4"
      },
      "outputs": [
        {
          "ename": "KeyboardInterrupt",
          "evalue": "",
          "output_type": "error",
          "traceback": [
            "\u001b[0;31m---------------------------------------------------------------------------\u001b[0m",
            "\u001b[0;31mKeyboardInterrupt\u001b[0m                         Traceback (most recent call last)",
            "\u001b[0;32m<ipython-input-21-4c8aeb164e7d>\u001b[0m in \u001b[0;36m<cell line: 47>\u001b[0;34m()\u001b[0m\n\u001b[1;32m     45\u001b[0m \u001b[0;34m\u001b[0m\u001b[0m\n\u001b[1;32m     46\u001b[0m \u001b[0;31m# Call the function to display the waveform and spectrogram\u001b[0m\u001b[0;34m\u001b[0m\u001b[0;34m\u001b[0m\u001b[0m\n\u001b[0;32m---> 47\u001b[0;31m \u001b[0mdisplay_waveform_and_spectrogram\u001b[0m\u001b[0;34m(\u001b[0m\u001b[0maudio_file_path\u001b[0m\u001b[0;34m)\u001b[0m\u001b[0;34m\u001b[0m\u001b[0;34m\u001b[0m\u001b[0m\n\u001b[0m",
            "\u001b[0;32m<ipython-input-21-4c8aeb164e7d>\u001b[0m in \u001b[0;36mdisplay_waveform_and_spectrogram\u001b[0;34m(audio_path)\u001b[0m\n\u001b[1;32m      6\u001b[0m \u001b[0;32mdef\u001b[0m \u001b[0mdisplay_waveform_and_spectrogram\u001b[0m\u001b[0;34m(\u001b[0m\u001b[0maudio_path\u001b[0m\u001b[0;34m)\u001b[0m\u001b[0;34m:\u001b[0m\u001b[0;34m\u001b[0m\u001b[0;34m\u001b[0m\u001b[0m\n\u001b[1;32m      7\u001b[0m     \u001b[0;31m# Load audio file with downsampling for faster processing\u001b[0m\u001b[0;34m\u001b[0m\u001b[0;34m\u001b[0m\u001b[0m\n\u001b[0;32m----> 8\u001b[0;31m     \u001b[0my\u001b[0m\u001b[0;34m,\u001b[0m \u001b[0msr\u001b[0m \u001b[0;34m=\u001b[0m \u001b[0mlibrosa\u001b[0m\u001b[0;34m.\u001b[0m\u001b[0mload\u001b[0m\u001b[0;34m(\u001b[0m\u001b[0maudio_path\u001b[0m\u001b[0;34m,\u001b[0m \u001b[0msr\u001b[0m\u001b[0;34m=\u001b[0m\u001b[0;36m22050\u001b[0m\u001b[0;34m)\u001b[0m  \u001b[0;31m# Downsampled to 22.05 kHz\u001b[0m\u001b[0;34m\u001b[0m\u001b[0;34m\u001b[0m\u001b[0m\n\u001b[0m\u001b[1;32m      9\u001b[0m \u001b[0;34m\u001b[0m\u001b[0m\n\u001b[1;32m     10\u001b[0m     \u001b[0;31m# Optionally select a shorter segment of the audio (e.g., first 30 seconds)\u001b[0m\u001b[0;34m\u001b[0m\u001b[0;34m\u001b[0m\u001b[0m\n",
            "\u001b[0;32m/usr/local/lib/python3.10/dist-packages/librosa/core/audio.py\u001b[0m in \u001b[0;36mload\u001b[0;34m(path, sr, mono, offset, duration, dtype, res_type)\u001b[0m\n\u001b[1;32m    188\u001b[0m     \u001b[0;31m# Final cleanup for dtype and contiguity\u001b[0m\u001b[0;34m\u001b[0m\u001b[0;34m\u001b[0m\u001b[0m\n\u001b[1;32m    189\u001b[0m     \u001b[0;32mif\u001b[0m \u001b[0mmono\u001b[0m\u001b[0;34m:\u001b[0m\u001b[0;34m\u001b[0m\u001b[0;34m\u001b[0m\u001b[0m\n\u001b[0;32m--> 190\u001b[0;31m         \u001b[0my\u001b[0m \u001b[0;34m=\u001b[0m \u001b[0mto_mono\u001b[0m\u001b[0;34m(\u001b[0m\u001b[0my\u001b[0m\u001b[0;34m)\u001b[0m\u001b[0;34m\u001b[0m\u001b[0;34m\u001b[0m\u001b[0m\n\u001b[0m\u001b[1;32m    191\u001b[0m \u001b[0;34m\u001b[0m\u001b[0m\n\u001b[1;32m    192\u001b[0m     \u001b[0;32mif\u001b[0m \u001b[0msr\u001b[0m \u001b[0;32mis\u001b[0m \u001b[0;32mnot\u001b[0m \u001b[0;32mNone\u001b[0m\u001b[0;34m:\u001b[0m\u001b[0;34m\u001b[0m\u001b[0;34m\u001b[0m\u001b[0m\n",
            "\u001b[0;32m/usr/local/lib/python3.10/dist-packages/librosa/core/audio.py\u001b[0m in \u001b[0;36mto_mono\u001b[0;34m(y)\u001b[0m\n\u001b[1;32m    503\u001b[0m     \"\"\"\n\u001b[1;32m    504\u001b[0m     \u001b[0;31m# Validate the buffer.  Stereo is ok here.\u001b[0m\u001b[0;34m\u001b[0m\u001b[0;34m\u001b[0m\u001b[0m\n\u001b[0;32m--> 505\u001b[0;31m     \u001b[0mutil\u001b[0m\u001b[0;34m.\u001b[0m\u001b[0mvalid_audio\u001b[0m\u001b[0;34m(\u001b[0m\u001b[0my\u001b[0m\u001b[0;34m,\u001b[0m \u001b[0mmono\u001b[0m\u001b[0;34m=\u001b[0m\u001b[0;32mFalse\u001b[0m\u001b[0;34m)\u001b[0m\u001b[0;34m\u001b[0m\u001b[0;34m\u001b[0m\u001b[0m\n\u001b[0m\u001b[1;32m    506\u001b[0m \u001b[0;34m\u001b[0m\u001b[0m\n\u001b[1;32m    507\u001b[0m     \u001b[0;32mif\u001b[0m \u001b[0my\u001b[0m\u001b[0;34m.\u001b[0m\u001b[0mndim\u001b[0m \u001b[0;34m>\u001b[0m \u001b[0;36m1\u001b[0m\u001b[0;34m:\u001b[0m\u001b[0;34m\u001b[0m\u001b[0;34m\u001b[0m\u001b[0m\n",
            "\u001b[0;32m/usr/local/lib/python3.10/dist-packages/lazy_loader/__init__.py\u001b[0m in \u001b[0;36m__getattr__\u001b[0;34m(name)\u001b[0m\n\u001b[1;32m     80\u001b[0m         \u001b[0;32melif\u001b[0m \u001b[0mname\u001b[0m \u001b[0;32min\u001b[0m \u001b[0mattr_to_modules\u001b[0m\u001b[0;34m:\u001b[0m\u001b[0;34m\u001b[0m\u001b[0;34m\u001b[0m\u001b[0m\n\u001b[1;32m     81\u001b[0m             \u001b[0msubmod_path\u001b[0m \u001b[0;34m=\u001b[0m \u001b[0;34mf\"{package_name}.{attr_to_modules[name]}\"\u001b[0m\u001b[0;34m\u001b[0m\u001b[0;34m\u001b[0m\u001b[0m\n\u001b[0;32m---> 82\u001b[0;31m             \u001b[0msubmod\u001b[0m \u001b[0;34m=\u001b[0m \u001b[0mimportlib\u001b[0m\u001b[0;34m.\u001b[0m\u001b[0mimport_module\u001b[0m\u001b[0;34m(\u001b[0m\u001b[0msubmod_path\u001b[0m\u001b[0;34m)\u001b[0m\u001b[0;34m\u001b[0m\u001b[0;34m\u001b[0m\u001b[0m\n\u001b[0m\u001b[1;32m     83\u001b[0m             \u001b[0mattr\u001b[0m \u001b[0;34m=\u001b[0m \u001b[0mgetattr\u001b[0m\u001b[0;34m(\u001b[0m\u001b[0msubmod\u001b[0m\u001b[0;34m,\u001b[0m \u001b[0mname\u001b[0m\u001b[0;34m)\u001b[0m\u001b[0;34m\u001b[0m\u001b[0;34m\u001b[0m\u001b[0m\n\u001b[1;32m     84\u001b[0m \u001b[0;34m\u001b[0m\u001b[0m\n",
            "\u001b[0;32m/usr/lib/python3.10/importlib/__init__.py\u001b[0m in \u001b[0;36mimport_module\u001b[0;34m(name, package)\u001b[0m\n\u001b[1;32m    124\u001b[0m                 \u001b[0;32mbreak\u001b[0m\u001b[0;34m\u001b[0m\u001b[0;34m\u001b[0m\u001b[0m\n\u001b[1;32m    125\u001b[0m             \u001b[0mlevel\u001b[0m \u001b[0;34m+=\u001b[0m \u001b[0;36m1\u001b[0m\u001b[0;34m\u001b[0m\u001b[0;34m\u001b[0m\u001b[0m\n\u001b[0;32m--> 126\u001b[0;31m     \u001b[0;32mreturn\u001b[0m \u001b[0m_bootstrap\u001b[0m\u001b[0;34m.\u001b[0m\u001b[0m_gcd_import\u001b[0m\u001b[0;34m(\u001b[0m\u001b[0mname\u001b[0m\u001b[0;34m[\u001b[0m\u001b[0mlevel\u001b[0m\u001b[0;34m:\u001b[0m\u001b[0;34m]\u001b[0m\u001b[0;34m,\u001b[0m \u001b[0mpackage\u001b[0m\u001b[0;34m,\u001b[0m \u001b[0mlevel\u001b[0m\u001b[0;34m)\u001b[0m\u001b[0;34m\u001b[0m\u001b[0;34m\u001b[0m\u001b[0m\n\u001b[0m\u001b[1;32m    127\u001b[0m \u001b[0;34m\u001b[0m\u001b[0m\n\u001b[1;32m    128\u001b[0m \u001b[0;34m\u001b[0m\u001b[0m\n",
            "\u001b[0;32m/usr/lib/python3.10/importlib/_bootstrap.py\u001b[0m in \u001b[0;36m_gcd_import\u001b[0;34m(name, package, level)\u001b[0m\n",
            "\u001b[0;32m/usr/lib/python3.10/importlib/_bootstrap.py\u001b[0m in \u001b[0;36m_find_and_load\u001b[0;34m(name, import_)\u001b[0m\n",
            "\u001b[0;32m/usr/lib/python3.10/importlib/_bootstrap.py\u001b[0m in \u001b[0;36m_find_and_load_unlocked\u001b[0;34m(name, import_)\u001b[0m\n",
            "\u001b[0;32m/usr/lib/python3.10/importlib/_bootstrap.py\u001b[0m in \u001b[0;36m_load_unlocked\u001b[0;34m(spec)\u001b[0m\n",
            "\u001b[0;32m/usr/lib/python3.10/importlib/_bootstrap_external.py\u001b[0m in \u001b[0;36mexec_module\u001b[0;34m(self, module)\u001b[0m\n",
            "\u001b[0;32m/usr/lib/python3.10/importlib/_bootstrap.py\u001b[0m in \u001b[0;36m_call_with_frames_removed\u001b[0;34m(f, *args, **kwds)\u001b[0m\n",
            "\u001b[0;32m/usr/local/lib/python3.10/dist-packages/librosa/util/utils.py\u001b[0m in \u001b[0;36m<module>\u001b[0;34m\u001b[0m\n\u001b[1;32m   1078\u001b[0m     \u001b[0mnopython\u001b[0m\u001b[0;34m=\u001b[0m\u001b[0;32mTrue\u001b[0m\u001b[0;34m,\u001b[0m\u001b[0;34m\u001b[0m\u001b[0;34m\u001b[0m\u001b[0m\n\u001b[1;32m   1079\u001b[0m )\n\u001b[0;32m-> 1080\u001b[0;31m \u001b[0;32mdef\u001b[0m \u001b[0m_localmin\u001b[0m\u001b[0;34m(\u001b[0m\u001b[0mx\u001b[0m\u001b[0;34m,\u001b[0m \u001b[0my\u001b[0m\u001b[0;34m)\u001b[0m\u001b[0;34m:\u001b[0m  \u001b[0;31m# pragma: no cover\u001b[0m\u001b[0;34m\u001b[0m\u001b[0;34m\u001b[0m\u001b[0m\n\u001b[0m\u001b[1;32m   1081\u001b[0m     \u001b[0;34m\"\"\"Vectorized wrapper for the localmin stencil\"\"\"\u001b[0m\u001b[0;34m\u001b[0m\u001b[0;34m\u001b[0m\u001b[0m\n\u001b[1;32m   1082\u001b[0m     \u001b[0my\u001b[0m\u001b[0;34m[\u001b[0m\u001b[0;34m:\u001b[0m\u001b[0;34m]\u001b[0m \u001b[0;34m=\u001b[0m \u001b[0m_localmin_sten\u001b[0m\u001b[0;34m(\u001b[0m\u001b[0mx\u001b[0m\u001b[0;34m)\u001b[0m\u001b[0;34m\u001b[0m\u001b[0;34m\u001b[0m\u001b[0m\n",
            "\u001b[0;32m/usr/local/lib/python3.10/dist-packages/numba/np/ufunc/decorators.py\u001b[0m in \u001b[0;36mwrap\u001b[0;34m(func)\u001b[0m\n\u001b[1;32m    204\u001b[0m         \u001b[0;32mif\u001b[0m \u001b[0mlen\u001b[0m\u001b[0;34m(\u001b[0m\u001b[0mftylist\u001b[0m\u001b[0;34m)\u001b[0m \u001b[0;34m>\u001b[0m \u001b[0;36m0\u001b[0m\u001b[0;34m:\u001b[0m\u001b[0;34m\u001b[0m\u001b[0;34m\u001b[0m\u001b[0m\n\u001b[1;32m    205\u001b[0m             \u001b[0mguvec\u001b[0m\u001b[0;34m.\u001b[0m\u001b[0mdisable_compile\u001b[0m\u001b[0;34m(\u001b[0m\u001b[0;34m)\u001b[0m\u001b[0;34m\u001b[0m\u001b[0;34m\u001b[0m\u001b[0m\n\u001b[0;32m--> 206\u001b[0;31m         \u001b[0;32mreturn\u001b[0m \u001b[0mguvec\u001b[0m\u001b[0;34m.\u001b[0m\u001b[0mbuild_ufunc\u001b[0m\u001b[0;34m(\u001b[0m\u001b[0;34m)\u001b[0m\u001b[0;34m\u001b[0m\u001b[0;34m\u001b[0m\u001b[0m\n\u001b[0m\u001b[1;32m    207\u001b[0m \u001b[0;34m\u001b[0m\u001b[0m\n\u001b[1;32m    208\u001b[0m     \u001b[0;32mreturn\u001b[0m \u001b[0mwrap\u001b[0m\u001b[0;34m\u001b[0m\u001b[0;34m\u001b[0m\u001b[0m\n",
            "\u001b[0;32m/usr/local/lib/python3.10/dist-packages/numba/np/ufunc/gufunc.py\u001b[0m in \u001b[0;36mbuild_ufunc\u001b[0;34m(self)\u001b[0m\n\u001b[1;32m    138\u001b[0m \u001b[0;34m\u001b[0m\u001b[0m\n\u001b[1;32m    139\u001b[0m     \u001b[0;32mdef\u001b[0m \u001b[0mbuild_ufunc\u001b[0m\u001b[0;34m(\u001b[0m\u001b[0mself\u001b[0m\u001b[0;34m)\u001b[0m\u001b[0;34m:\u001b[0m\u001b[0;34m\u001b[0m\u001b[0;34m\u001b[0m\u001b[0m\n\u001b[0;32m--> 140\u001b[0;31m         \u001b[0mself\u001b[0m\u001b[0;34m.\u001b[0m\u001b[0mufunc\u001b[0m \u001b[0;34m=\u001b[0m \u001b[0mself\u001b[0m\u001b[0;34m.\u001b[0m\u001b[0mgufunc_builder\u001b[0m\u001b[0;34m.\u001b[0m\u001b[0mbuild_ufunc\u001b[0m\u001b[0;34m(\u001b[0m\u001b[0;34m)\u001b[0m\u001b[0;34m\u001b[0m\u001b[0;34m\u001b[0m\u001b[0m\n\u001b[0m\u001b[1;32m    141\u001b[0m         \u001b[0;32mreturn\u001b[0m \u001b[0mself\u001b[0m\u001b[0;34m\u001b[0m\u001b[0;34m\u001b[0m\u001b[0m\n\u001b[1;32m    142\u001b[0m \u001b[0;34m\u001b[0m\u001b[0m\n",
            "\u001b[0;32m/usr/local/lib/python3.10/dist-packages/numba/core/compiler_lock.py\u001b[0m in \u001b[0;36m_acquire_compile_lock\u001b[0;34m(*args, **kwargs)\u001b[0m\n\u001b[1;32m     33\u001b[0m         \u001b[0;32mdef\u001b[0m \u001b[0m_acquire_compile_lock\u001b[0m\u001b[0;34m(\u001b[0m\u001b[0;34m*\u001b[0m\u001b[0margs\u001b[0m\u001b[0;34m,\u001b[0m \u001b[0;34m**\u001b[0m\u001b[0mkwargs\u001b[0m\u001b[0;34m)\u001b[0m\u001b[0;34m:\u001b[0m\u001b[0;34m\u001b[0m\u001b[0;34m\u001b[0m\u001b[0m\n\u001b[1;32m     34\u001b[0m             \u001b[0;32mwith\u001b[0m \u001b[0mself\u001b[0m\u001b[0;34m:\u001b[0m\u001b[0;34m\u001b[0m\u001b[0;34m\u001b[0m\u001b[0m\n\u001b[0;32m---> 35\u001b[0;31m                 \u001b[0;32mreturn\u001b[0m \u001b[0mfunc\u001b[0m\u001b[0;34m(\u001b[0m\u001b[0;34m*\u001b[0m\u001b[0margs\u001b[0m\u001b[0;34m,\u001b[0m \u001b[0;34m**\u001b[0m\u001b[0mkwargs\u001b[0m\u001b[0;34m)\u001b[0m\u001b[0;34m\u001b[0m\u001b[0;34m\u001b[0m\u001b[0m\n\u001b[0m\u001b[1;32m     36\u001b[0m         \u001b[0;32mreturn\u001b[0m \u001b[0m_acquire_compile_lock\u001b[0m\u001b[0;34m\u001b[0m\u001b[0;34m\u001b[0m\u001b[0m\n\u001b[1;32m     37\u001b[0m \u001b[0;34m\u001b[0m\u001b[0m\n",
            "\u001b[0;32m/usr/local/lib/python3.10/dist-packages/numba/np/ufunc/ufuncbuilder.py\u001b[0m in \u001b[0;36mbuild_ufunc\u001b[0;34m(self)\u001b[0m\n\u001b[1;32m    374\u001b[0m         \u001b[0;32mfor\u001b[0m \u001b[0msig\u001b[0m \u001b[0;32min\u001b[0m \u001b[0mself\u001b[0m\u001b[0;34m.\u001b[0m\u001b[0m_sigs\u001b[0m\u001b[0;34m:\u001b[0m\u001b[0;34m\u001b[0m\u001b[0;34m\u001b[0m\u001b[0m\n\u001b[1;32m    375\u001b[0m             \u001b[0mcres\u001b[0m \u001b[0;34m=\u001b[0m \u001b[0mself\u001b[0m\u001b[0;34m.\u001b[0m\u001b[0m_cres\u001b[0m\u001b[0;34m[\u001b[0m\u001b[0msig\u001b[0m\u001b[0;34m]\u001b[0m\u001b[0;34m\u001b[0m\u001b[0;34m\u001b[0m\u001b[0m\n\u001b[0;32m--> 376\u001b[0;31m             \u001b[0mdtypenums\u001b[0m\u001b[0;34m,\u001b[0m \u001b[0mptr\u001b[0m\u001b[0;34m,\u001b[0m \u001b[0menv\u001b[0m \u001b[0;34m=\u001b[0m \u001b[0mself\u001b[0m\u001b[0;34m.\u001b[0m\u001b[0mbuild\u001b[0m\u001b[0;34m(\u001b[0m\u001b[0mcres\u001b[0m\u001b[0;34m)\u001b[0m\u001b[0;34m\u001b[0m\u001b[0;34m\u001b[0m\u001b[0m\n\u001b[0m\u001b[1;32m    377\u001b[0m             \u001b[0mtype_list\u001b[0m\u001b[0;34m.\u001b[0m\u001b[0mappend\u001b[0m\u001b[0;34m(\u001b[0m\u001b[0mdtypenums\u001b[0m\u001b[0;34m)\u001b[0m\u001b[0;34m\u001b[0m\u001b[0;34m\u001b[0m\u001b[0m\n\u001b[1;32m    378\u001b[0m             \u001b[0mfunc_list\u001b[0m\u001b[0;34m.\u001b[0m\u001b[0mappend\u001b[0m\u001b[0;34m(\u001b[0m\u001b[0mint\u001b[0m\u001b[0;34m(\u001b[0m\u001b[0mptr\u001b[0m\u001b[0;34m)\u001b[0m\u001b[0;34m)\u001b[0m\u001b[0;34m\u001b[0m\u001b[0;34m\u001b[0m\u001b[0m\n",
            "\u001b[0;32m/usr/local/lib/python3.10/dist-packages/numba/np/ufunc/ufuncbuilder.py\u001b[0m in \u001b[0;36mbuild\u001b[0;34m(self, cres)\u001b[0m\n\u001b[1;32m    398\u001b[0m         \u001b[0;31m# Builder wrapper for ufunc entry point\u001b[0m\u001b[0;34m\u001b[0m\u001b[0;34m\u001b[0m\u001b[0m\n\u001b[1;32m    399\u001b[0m         \u001b[0msignature\u001b[0m \u001b[0;34m=\u001b[0m \u001b[0mcres\u001b[0m\u001b[0;34m.\u001b[0m\u001b[0msignature\u001b[0m\u001b[0;34m\u001b[0m\u001b[0;34m\u001b[0m\u001b[0m\n\u001b[0;32m--> 400\u001b[0;31m         info = build_gufunc_wrapper(\n\u001b[0m\u001b[1;32m    401\u001b[0m             \u001b[0mself\u001b[0m\u001b[0;34m.\u001b[0m\u001b[0mpy_func\u001b[0m\u001b[0;34m,\u001b[0m \u001b[0mcres\u001b[0m\u001b[0;34m,\u001b[0m \u001b[0mself\u001b[0m\u001b[0;34m.\u001b[0m\u001b[0msin\u001b[0m\u001b[0;34m,\u001b[0m \u001b[0mself\u001b[0m\u001b[0;34m.\u001b[0m\u001b[0msout\u001b[0m\u001b[0;34m,\u001b[0m\u001b[0;34m\u001b[0m\u001b[0;34m\u001b[0m\u001b[0m\n\u001b[1;32m    402\u001b[0m             \u001b[0mcache\u001b[0m\u001b[0;34m=\u001b[0m\u001b[0mself\u001b[0m\u001b[0;34m.\u001b[0m\u001b[0mcache\u001b[0m\u001b[0;34m,\u001b[0m \u001b[0mis_parfors\u001b[0m\u001b[0;34m=\u001b[0m\u001b[0;32mFalse\u001b[0m\u001b[0;34m,\u001b[0m\u001b[0;34m\u001b[0m\u001b[0;34m\u001b[0m\u001b[0m\n",
            "\u001b[0;32m/usr/local/lib/python3.10/dist-packages/numba/np/ufunc/wrappers.py\u001b[0m in \u001b[0;36mbuild_gufunc_wrapper\u001b[0;34m(py_func, cres, sin, sout, cache, is_parfors)\u001b[0m\n\u001b[1;32m    502\u001b[0m     return wrapcls(\n\u001b[1;32m    503\u001b[0m         \u001b[0mpy_func\u001b[0m\u001b[0;34m,\u001b[0m \u001b[0mcres\u001b[0m\u001b[0;34m,\u001b[0m \u001b[0msin\u001b[0m\u001b[0;34m,\u001b[0m \u001b[0msout\u001b[0m\u001b[0;34m,\u001b[0m \u001b[0mcache\u001b[0m\u001b[0;34m,\u001b[0m \u001b[0mis_parfors\u001b[0m\u001b[0;34m=\u001b[0m\u001b[0mis_parfors\u001b[0m\u001b[0;34m,\u001b[0m\u001b[0;34m\u001b[0m\u001b[0;34m\u001b[0m\u001b[0m\n\u001b[0;32m--> 504\u001b[0;31m     ).build()\n\u001b[0m\u001b[1;32m    505\u001b[0m \u001b[0;34m\u001b[0m\u001b[0m\n\u001b[1;32m    506\u001b[0m \u001b[0;34m\u001b[0m\u001b[0m\n",
            "\u001b[0;32m/usr/local/lib/python3.10/dist-packages/numba/core/compiler_lock.py\u001b[0m in \u001b[0;36m_acquire_compile_lock\u001b[0;34m(*args, **kwargs)\u001b[0m\n\u001b[1;32m     33\u001b[0m         \u001b[0;32mdef\u001b[0m \u001b[0m_acquire_compile_lock\u001b[0m\u001b[0;34m(\u001b[0m\u001b[0;34m*\u001b[0m\u001b[0margs\u001b[0m\u001b[0;34m,\u001b[0m \u001b[0;34m**\u001b[0m\u001b[0mkwargs\u001b[0m\u001b[0;34m)\u001b[0m\u001b[0;34m:\u001b[0m\u001b[0;34m\u001b[0m\u001b[0;34m\u001b[0m\u001b[0m\n\u001b[1;32m     34\u001b[0m             \u001b[0;32mwith\u001b[0m \u001b[0mself\u001b[0m\u001b[0;34m:\u001b[0m\u001b[0;34m\u001b[0m\u001b[0;34m\u001b[0m\u001b[0m\n\u001b[0;32m---> 35\u001b[0;31m                 \u001b[0;32mreturn\u001b[0m \u001b[0mfunc\u001b[0m\u001b[0;34m(\u001b[0m\u001b[0;34m*\u001b[0m\u001b[0margs\u001b[0m\u001b[0;34m,\u001b[0m \u001b[0;34m**\u001b[0m\u001b[0mkwargs\u001b[0m\u001b[0;34m)\u001b[0m\u001b[0;34m\u001b[0m\u001b[0;34m\u001b[0m\u001b[0m\n\u001b[0m\u001b[1;32m     36\u001b[0m         \u001b[0;32mreturn\u001b[0m \u001b[0m_acquire_compile_lock\u001b[0m\u001b[0;34m\u001b[0m\u001b[0;34m\u001b[0m\u001b[0m\n\u001b[1;32m     37\u001b[0m \u001b[0;34m\u001b[0m\u001b[0m\n",
            "\u001b[0;32m/usr/local/lib/python3.10/dist-packages/numba/np/ufunc/wrappers.py\u001b[0m in \u001b[0;36mbuild\u001b[0;34m(self)\u001b[0m\n\u001b[1;32m    454\u001b[0m     \u001b[0;32mdef\u001b[0m \u001b[0mbuild\u001b[0m\u001b[0;34m(\u001b[0m\u001b[0mself\u001b[0m\u001b[0;34m)\u001b[0m\u001b[0;34m:\u001b[0m\u001b[0;34m\u001b[0m\u001b[0;34m\u001b[0m\u001b[0m\n\u001b[1;32m    455\u001b[0m         \u001b[0mwrapper_name\u001b[0m \u001b[0;34m=\u001b[0m \u001b[0;34m\"__gufunc__.\"\u001b[0m \u001b[0;34m+\u001b[0m \u001b[0mself\u001b[0m\u001b[0;34m.\u001b[0m\u001b[0mfndesc\u001b[0m\u001b[0;34m.\u001b[0m\u001b[0mmangled_name\u001b[0m\u001b[0;34m\u001b[0m\u001b[0;34m\u001b[0m\u001b[0m\n\u001b[0;32m--> 456\u001b[0;31m         \u001b[0mwrapperlib\u001b[0m \u001b[0;34m=\u001b[0m \u001b[0mself\u001b[0m\u001b[0;34m.\u001b[0m\u001b[0m_compile_wrapper\u001b[0m\u001b[0;34m(\u001b[0m\u001b[0mwrapper_name\u001b[0m\u001b[0;34m)\u001b[0m\u001b[0;34m\u001b[0m\u001b[0;34m\u001b[0m\u001b[0m\n\u001b[0m\u001b[1;32m    457\u001b[0m         return _wrapper_info(\n\u001b[1;32m    458\u001b[0m             \u001b[0mlibrary\u001b[0m\u001b[0;34m=\u001b[0m\u001b[0mwrapperlib\u001b[0m\u001b[0;34m,\u001b[0m \u001b[0menv\u001b[0m\u001b[0;34m=\u001b[0m\u001b[0mself\u001b[0m\u001b[0;34m.\u001b[0m\u001b[0menv\u001b[0m\u001b[0;34m,\u001b[0m \u001b[0mname\u001b[0m\u001b[0;34m=\u001b[0m\u001b[0mwrapper_name\u001b[0m\u001b[0;34m,\u001b[0m\u001b[0;34m\u001b[0m\u001b[0;34m\u001b[0m\u001b[0m\n",
            "\u001b[0;32m/usr/local/lib/python3.10/dist-packages/numba/np/ufunc/wrappers.py\u001b[0m in \u001b[0;36m_compile_wrapper\u001b[0;34m(self, wrapper_name)\u001b[0m\n\u001b[1;32m    445\u001b[0m                 \u001b[0mwrapperlib\u001b[0m\u001b[0;34m.\u001b[0m\u001b[0menable_object_caching\u001b[0m\u001b[0;34m(\u001b[0m\u001b[0;34m)\u001b[0m\u001b[0;34m\u001b[0m\u001b[0;34m\u001b[0m\u001b[0m\n\u001b[1;32m    446\u001b[0m                 \u001b[0;31m# Build wrapper\u001b[0m\u001b[0;34m\u001b[0m\u001b[0;34m\u001b[0m\u001b[0m\n\u001b[0;32m--> 447\u001b[0;31m                 \u001b[0mself\u001b[0m\u001b[0;34m.\u001b[0m\u001b[0m_build_wrapper\u001b[0m\u001b[0;34m(\u001b[0m\u001b[0mwrapperlib\u001b[0m\u001b[0;34m,\u001b[0m \u001b[0mwrapper_name\u001b[0m\u001b[0;34m)\u001b[0m\u001b[0;34m\u001b[0m\u001b[0;34m\u001b[0m\u001b[0m\n\u001b[0m\u001b[1;32m    448\u001b[0m                 \u001b[0;31m# Cache\u001b[0m\u001b[0;34m\u001b[0m\u001b[0;34m\u001b[0m\u001b[0m\n\u001b[1;32m    449\u001b[0m                 \u001b[0mself\u001b[0m\u001b[0;34m.\u001b[0m\u001b[0mcache\u001b[0m\u001b[0;34m.\u001b[0m\u001b[0msave_overload\u001b[0m\u001b[0;34m(\u001b[0m\u001b[0mself\u001b[0m\u001b[0;34m.\u001b[0m\u001b[0mcres\u001b[0m\u001b[0;34m.\u001b[0m\u001b[0msignature\u001b[0m\u001b[0;34m,\u001b[0m \u001b[0mwrapperlib\u001b[0m\u001b[0;34m)\u001b[0m\u001b[0;34m\u001b[0m\u001b[0;34m\u001b[0m\u001b[0m\n",
            "\u001b[0;32m/usr/local/lib/python3.10/dist-packages/numba/np/ufunc/wrappers.py\u001b[0m in \u001b[0;36m_build_wrapper\u001b[0;34m(self, library, name)\u001b[0m\n\u001b[1;32m    424\u001b[0m \u001b[0;34m\u001b[0m\u001b[0m\n\u001b[1;32m    425\u001b[0m         \u001b[0;31m# Link\u001b[0m\u001b[0;34m\u001b[0m\u001b[0;34m\u001b[0m\u001b[0m\n\u001b[0;32m--> 426\u001b[0;31m         \u001b[0mlibrary\u001b[0m\u001b[0;34m.\u001b[0m\u001b[0madd_ir_module\u001b[0m\u001b[0;34m(\u001b[0m\u001b[0mwrapper_module\u001b[0m\u001b[0;34m)\u001b[0m\u001b[0;34m\u001b[0m\u001b[0;34m\u001b[0m\u001b[0m\n\u001b[0m\u001b[1;32m    427\u001b[0m         \u001b[0mlibrary\u001b[0m\u001b[0;34m.\u001b[0m\u001b[0madd_linking_library\u001b[0m\u001b[0;34m(\u001b[0m\u001b[0mself\u001b[0m\u001b[0;34m.\u001b[0m\u001b[0mlibrary\u001b[0m\u001b[0;34m)\u001b[0m\u001b[0;34m\u001b[0m\u001b[0;34m\u001b[0m\u001b[0m\n\u001b[1;32m    428\u001b[0m \u001b[0;34m\u001b[0m\u001b[0m\n",
            "\u001b[0;32m/usr/local/lib/python3.10/dist-packages/numba/core/codegen.py\u001b[0m in \u001b[0;36madd_ir_module\u001b[0;34m(self, ir_module)\u001b[0m\n\u001b[1;32m    724\u001b[0m         \u001b[0mself\u001b[0m\u001b[0;34m.\u001b[0m\u001b[0m_raise_if_finalized\u001b[0m\u001b[0;34m(\u001b[0m\u001b[0;34m)\u001b[0m\u001b[0;34m\u001b[0m\u001b[0;34m\u001b[0m\u001b[0m\n\u001b[1;32m    725\u001b[0m         \u001b[0;32massert\u001b[0m \u001b[0misinstance\u001b[0m\u001b[0;34m(\u001b[0m\u001b[0mir_module\u001b[0m\u001b[0;34m,\u001b[0m \u001b[0mllvmir\u001b[0m\u001b[0;34m.\u001b[0m\u001b[0mModule\u001b[0m\u001b[0;34m)\u001b[0m\u001b[0;34m\u001b[0m\u001b[0;34m\u001b[0m\u001b[0m\n\u001b[0;32m--> 726\u001b[0;31m         \u001b[0mir\u001b[0m \u001b[0;34m=\u001b[0m \u001b[0mcgutils\u001b[0m\u001b[0;34m.\u001b[0m\u001b[0mnormalize_ir_text\u001b[0m\u001b[0;34m(\u001b[0m\u001b[0mstr\u001b[0m\u001b[0;34m(\u001b[0m\u001b[0mir_module\u001b[0m\u001b[0;34m)\u001b[0m\u001b[0;34m)\u001b[0m\u001b[0;34m\u001b[0m\u001b[0;34m\u001b[0m\u001b[0m\n\u001b[0m\u001b[1;32m    727\u001b[0m         \u001b[0mll_module\u001b[0m \u001b[0;34m=\u001b[0m \u001b[0mll\u001b[0m\u001b[0;34m.\u001b[0m\u001b[0mparse_assembly\u001b[0m\u001b[0;34m(\u001b[0m\u001b[0mir\u001b[0m\u001b[0;34m)\u001b[0m\u001b[0;34m\u001b[0m\u001b[0;34m\u001b[0m\u001b[0m\n\u001b[1;32m    728\u001b[0m         \u001b[0mll_module\u001b[0m\u001b[0;34m.\u001b[0m\u001b[0mname\u001b[0m \u001b[0;34m=\u001b[0m \u001b[0mir_module\u001b[0m\u001b[0;34m.\u001b[0m\u001b[0mname\u001b[0m\u001b[0;34m\u001b[0m\u001b[0;34m\u001b[0m\u001b[0m\n",
            "\u001b[0;32m/usr/local/lib/python3.10/dist-packages/llvmlite/ir/module.py\u001b[0m in \u001b[0;36m__repr__\u001b[0;34m(self)\u001b[0m\n\u001b[1;32m    240\u001b[0m             '']\n\u001b[1;32m    241\u001b[0m         \u001b[0;31m# Body\u001b[0m\u001b[0;34m\u001b[0m\u001b[0;34m\u001b[0m\u001b[0m\n\u001b[0;32m--> 242\u001b[0;31m         \u001b[0mlines\u001b[0m \u001b[0;34m+=\u001b[0m \u001b[0mself\u001b[0m\u001b[0;34m.\u001b[0m\u001b[0m_get_body_lines\u001b[0m\u001b[0;34m(\u001b[0m\u001b[0;34m)\u001b[0m\u001b[0;34m\u001b[0m\u001b[0;34m\u001b[0m\u001b[0m\n\u001b[0m\u001b[1;32m    243\u001b[0m         \u001b[0;31m# Metadata\u001b[0m\u001b[0;34m\u001b[0m\u001b[0;34m\u001b[0m\u001b[0m\n\u001b[1;32m    244\u001b[0m         \u001b[0mlines\u001b[0m \u001b[0;34m+=\u001b[0m \u001b[0mself\u001b[0m\u001b[0;34m.\u001b[0m\u001b[0m_get_metadata_lines\u001b[0m\u001b[0;34m(\u001b[0m\u001b[0;34m)\u001b[0m\u001b[0;34m\u001b[0m\u001b[0;34m\u001b[0m\u001b[0m\n",
            "\u001b[0;32m/usr/local/lib/python3.10/dist-packages/llvmlite/ir/module.py\u001b[0m in \u001b[0;36m_get_body_lines\u001b[0;34m(self)\u001b[0m\n\u001b[1;32m    210\u001b[0m                  for it in self.get_identified_types().values()]\n\u001b[1;32m    211\u001b[0m         \u001b[0;31m# Global values (including function definitions)\u001b[0m\u001b[0;34m\u001b[0m\u001b[0;34m\u001b[0m\u001b[0m\n\u001b[0;32m--> 212\u001b[0;31m         \u001b[0mlines\u001b[0m \u001b[0;34m+=\u001b[0m \u001b[0;34m[\u001b[0m\u001b[0mstr\u001b[0m\u001b[0;34m(\u001b[0m\u001b[0mv\u001b[0m\u001b[0;34m)\u001b[0m \u001b[0;32mfor\u001b[0m \u001b[0mv\u001b[0m \u001b[0;32min\u001b[0m \u001b[0mself\u001b[0m\u001b[0;34m.\u001b[0m\u001b[0mglobals\u001b[0m\u001b[0;34m.\u001b[0m\u001b[0mvalues\u001b[0m\u001b[0;34m(\u001b[0m\u001b[0;34m)\u001b[0m\u001b[0;34m]\u001b[0m\u001b[0;34m\u001b[0m\u001b[0;34m\u001b[0m\u001b[0m\n\u001b[0m\u001b[1;32m    213\u001b[0m         \u001b[0;32mreturn\u001b[0m \u001b[0mlines\u001b[0m\u001b[0;34m\u001b[0m\u001b[0;34m\u001b[0m\u001b[0m\n\u001b[1;32m    214\u001b[0m \u001b[0;34m\u001b[0m\u001b[0m\n",
            "\u001b[0;32m/usr/local/lib/python3.10/dist-packages/llvmlite/ir/module.py\u001b[0m in \u001b[0;36m<listcomp>\u001b[0;34m(.0)\u001b[0m\n\u001b[1;32m    210\u001b[0m                  for it in self.get_identified_types().values()]\n\u001b[1;32m    211\u001b[0m         \u001b[0;31m# Global values (including function definitions)\u001b[0m\u001b[0;34m\u001b[0m\u001b[0;34m\u001b[0m\u001b[0m\n\u001b[0;32m--> 212\u001b[0;31m         \u001b[0mlines\u001b[0m \u001b[0;34m+=\u001b[0m \u001b[0;34m[\u001b[0m\u001b[0mstr\u001b[0m\u001b[0;34m(\u001b[0m\u001b[0mv\u001b[0m\u001b[0;34m)\u001b[0m \u001b[0;32mfor\u001b[0m \u001b[0mv\u001b[0m \u001b[0;32min\u001b[0m \u001b[0mself\u001b[0m\u001b[0;34m.\u001b[0m\u001b[0mglobals\u001b[0m\u001b[0;34m.\u001b[0m\u001b[0mvalues\u001b[0m\u001b[0;34m(\u001b[0m\u001b[0;34m)\u001b[0m\u001b[0;34m]\u001b[0m\u001b[0;34m\u001b[0m\u001b[0;34m\u001b[0m\u001b[0m\n\u001b[0m\u001b[1;32m    213\u001b[0m         \u001b[0;32mreturn\u001b[0m \u001b[0mlines\u001b[0m\u001b[0;34m\u001b[0m\u001b[0;34m\u001b[0m\u001b[0m\n\u001b[1;32m    214\u001b[0m \u001b[0;34m\u001b[0m\u001b[0m\n",
            "\u001b[0;32m/usr/local/lib/python3.10/dist-packages/llvmlite/ir/values.py\u001b[0m in \u001b[0;36m__str__\u001b[0;34m(self)\u001b[0m\n\u001b[1;32m   1013\u001b[0m     \u001b[0;32mdef\u001b[0m \u001b[0m__str__\u001b[0m\u001b[0;34m(\u001b[0m\u001b[0mself\u001b[0m\u001b[0;34m)\u001b[0m\u001b[0;34m:\u001b[0m\u001b[0;34m\u001b[0m\u001b[0;34m\u001b[0m\u001b[0m\n\u001b[1;32m   1014\u001b[0m         \u001b[0mbuf\u001b[0m \u001b[0;34m=\u001b[0m \u001b[0;34m[\u001b[0m\u001b[0;34m]\u001b[0m\u001b[0;34m\u001b[0m\u001b[0;34m\u001b[0m\u001b[0m\n\u001b[0;32m-> 1015\u001b[0;31m         \u001b[0mself\u001b[0m\u001b[0;34m.\u001b[0m\u001b[0mdescr\u001b[0m\u001b[0;34m(\u001b[0m\u001b[0mbuf\u001b[0m\u001b[0;34m)\u001b[0m\u001b[0;34m\u001b[0m\u001b[0;34m\u001b[0m\u001b[0m\n\u001b[0m\u001b[1;32m   1016\u001b[0m         \u001b[0;32mreturn\u001b[0m \u001b[0;34m\"\"\u001b[0m\u001b[0;34m.\u001b[0m\u001b[0mjoin\u001b[0m\u001b[0;34m(\u001b[0m\u001b[0mbuf\u001b[0m\u001b[0;34m)\u001b[0m\u001b[0;34m\u001b[0m\u001b[0;34m\u001b[0m\u001b[0m\n\u001b[1;32m   1017\u001b[0m \u001b[0;34m\u001b[0m\u001b[0m\n",
            "\u001b[0;32m/usr/local/lib/python3.10/dist-packages/llvmlite/ir/values.py\u001b[0m in \u001b[0;36mdescr\u001b[0;34m(self, buf)\u001b[0m\n\u001b[1;32m   1008\u001b[0m         \u001b[0;32mif\u001b[0m \u001b[0mself\u001b[0m\u001b[0;34m.\u001b[0m\u001b[0mblocks\u001b[0m\u001b[0;34m:\u001b[0m\u001b[0;34m\u001b[0m\u001b[0;34m\u001b[0m\u001b[0m\n\u001b[1;32m   1009\u001b[0m             \u001b[0mbuf\u001b[0m\u001b[0;34m.\u001b[0m\u001b[0mappend\u001b[0m\u001b[0;34m(\u001b[0m\u001b[0;34m\"{\\n\"\u001b[0m\u001b[0;34m)\u001b[0m\u001b[0;34m\u001b[0m\u001b[0;34m\u001b[0m\u001b[0m\n\u001b[0;32m-> 1010\u001b[0;31m             \u001b[0mself\u001b[0m\u001b[0;34m.\u001b[0m\u001b[0mdescr_body\u001b[0m\u001b[0;34m(\u001b[0m\u001b[0mbuf\u001b[0m\u001b[0;34m)\u001b[0m\u001b[0;34m\u001b[0m\u001b[0;34m\u001b[0m\u001b[0m\n\u001b[0m\u001b[1;32m   1011\u001b[0m             \u001b[0mbuf\u001b[0m\u001b[0;34m.\u001b[0m\u001b[0mappend\u001b[0m\u001b[0;34m(\u001b[0m\u001b[0;34m\"}\\n\"\u001b[0m\u001b[0;34m)\u001b[0m\u001b[0;34m\u001b[0m\u001b[0;34m\u001b[0m\u001b[0m\n\u001b[1;32m   1012\u001b[0m \u001b[0;34m\u001b[0m\u001b[0m\n",
            "\u001b[0;32m/usr/local/lib/python3.10/dist-packages/llvmlite/ir/values.py\u001b[0m in \u001b[0;36mdescr_body\u001b[0;34m(self, buf)\u001b[0m\n\u001b[1;32m   1002\u001b[0m         \"\"\"\n\u001b[1;32m   1003\u001b[0m         \u001b[0;32mfor\u001b[0m \u001b[0mblk\u001b[0m \u001b[0;32min\u001b[0m \u001b[0mself\u001b[0m\u001b[0;34m.\u001b[0m\u001b[0mblocks\u001b[0m\u001b[0;34m:\u001b[0m\u001b[0;34m\u001b[0m\u001b[0;34m\u001b[0m\u001b[0m\n\u001b[0;32m-> 1004\u001b[0;31m             \u001b[0mblk\u001b[0m\u001b[0;34m.\u001b[0m\u001b[0mdescr\u001b[0m\u001b[0;34m(\u001b[0m\u001b[0mbuf\u001b[0m\u001b[0;34m)\u001b[0m\u001b[0;34m\u001b[0m\u001b[0;34m\u001b[0m\u001b[0m\n\u001b[0m\u001b[1;32m   1005\u001b[0m \u001b[0;34m\u001b[0m\u001b[0m\n\u001b[1;32m   1006\u001b[0m     \u001b[0;32mdef\u001b[0m \u001b[0mdescr\u001b[0m\u001b[0;34m(\u001b[0m\u001b[0mself\u001b[0m\u001b[0;34m,\u001b[0m \u001b[0mbuf\u001b[0m\u001b[0;34m)\u001b[0m\u001b[0;34m:\u001b[0m\u001b[0;34m\u001b[0m\u001b[0;34m\u001b[0m\u001b[0m\n",
            "\u001b[0;32m/usr/local/lib/python3.10/dist-packages/llvmlite/ir/values.py\u001b[0m in \u001b[0;36mdescr\u001b[0;34m(self, buf)\u001b[0m\n\u001b[1;32m   1172\u001b[0m     \u001b[0;32mdef\u001b[0m \u001b[0mdescr\u001b[0m\u001b[0;34m(\u001b[0m\u001b[0mself\u001b[0m\u001b[0;34m,\u001b[0m \u001b[0mbuf\u001b[0m\u001b[0;34m)\u001b[0m\u001b[0;34m:\u001b[0m\u001b[0;34m\u001b[0m\u001b[0;34m\u001b[0m\u001b[0m\n\u001b[1;32m   1173\u001b[0m         \u001b[0mbuf\u001b[0m\u001b[0;34m.\u001b[0m\u001b[0mappend\u001b[0m\u001b[0;34m(\u001b[0m\u001b[0;34m\"{0}:\\n\"\u001b[0m\u001b[0;34m.\u001b[0m\u001b[0mformat\u001b[0m\u001b[0;34m(\u001b[0m\u001b[0mself\u001b[0m\u001b[0;34m.\u001b[0m\u001b[0m_format_name\u001b[0m\u001b[0;34m(\u001b[0m\u001b[0;34m)\u001b[0m\u001b[0;34m)\u001b[0m\u001b[0;34m)\u001b[0m\u001b[0;34m\u001b[0m\u001b[0;34m\u001b[0m\u001b[0m\n\u001b[0;32m-> 1174\u001b[0;31m         \u001b[0mbuf\u001b[0m \u001b[0;34m+=\u001b[0m \u001b[0;34m[\u001b[0m\u001b[0;34m\"  {0}\\n\"\u001b[0m\u001b[0;34m.\u001b[0m\u001b[0mformat\u001b[0m\u001b[0;34m(\u001b[0m\u001b[0minstr\u001b[0m\u001b[0;34m)\u001b[0m \u001b[0;32mfor\u001b[0m \u001b[0minstr\u001b[0m \u001b[0;32min\u001b[0m \u001b[0mself\u001b[0m\u001b[0;34m.\u001b[0m\u001b[0minstructions\u001b[0m\u001b[0;34m]\u001b[0m\u001b[0;34m\u001b[0m\u001b[0;34m\u001b[0m\u001b[0m\n\u001b[0m\u001b[1;32m   1175\u001b[0m \u001b[0;34m\u001b[0m\u001b[0m\n\u001b[1;32m   1176\u001b[0m     \u001b[0;32mdef\u001b[0m \u001b[0mreplace\u001b[0m\u001b[0;34m(\u001b[0m\u001b[0mself\u001b[0m\u001b[0;34m,\u001b[0m \u001b[0mold\u001b[0m\u001b[0;34m,\u001b[0m \u001b[0mnew\u001b[0m\u001b[0;34m)\u001b[0m\u001b[0;34m:\u001b[0m\u001b[0;34m\u001b[0m\u001b[0;34m\u001b[0m\u001b[0m\n",
            "\u001b[0;32m/usr/local/lib/python3.10/dist-packages/llvmlite/ir/values.py\u001b[0m in \u001b[0;36m<listcomp>\u001b[0;34m(.0)\u001b[0m\n\u001b[1;32m   1172\u001b[0m     \u001b[0;32mdef\u001b[0m \u001b[0mdescr\u001b[0m\u001b[0;34m(\u001b[0m\u001b[0mself\u001b[0m\u001b[0;34m,\u001b[0m \u001b[0mbuf\u001b[0m\u001b[0;34m)\u001b[0m\u001b[0;34m:\u001b[0m\u001b[0;34m\u001b[0m\u001b[0;34m\u001b[0m\u001b[0m\n\u001b[1;32m   1173\u001b[0m         \u001b[0mbuf\u001b[0m\u001b[0;34m.\u001b[0m\u001b[0mappend\u001b[0m\u001b[0;34m(\u001b[0m\u001b[0;34m\"{0}:\\n\"\u001b[0m\u001b[0;34m.\u001b[0m\u001b[0mformat\u001b[0m\u001b[0;34m(\u001b[0m\u001b[0mself\u001b[0m\u001b[0;34m.\u001b[0m\u001b[0m_format_name\u001b[0m\u001b[0;34m(\u001b[0m\u001b[0;34m)\u001b[0m\u001b[0;34m)\u001b[0m\u001b[0;34m)\u001b[0m\u001b[0;34m\u001b[0m\u001b[0;34m\u001b[0m\u001b[0m\n\u001b[0;32m-> 1174\u001b[0;31m         \u001b[0mbuf\u001b[0m \u001b[0;34m+=\u001b[0m \u001b[0;34m[\u001b[0m\u001b[0;34m\"  {0}\\n\"\u001b[0m\u001b[0;34m.\u001b[0m\u001b[0mformat\u001b[0m\u001b[0;34m(\u001b[0m\u001b[0minstr\u001b[0m\u001b[0;34m)\u001b[0m \u001b[0;32mfor\u001b[0m \u001b[0minstr\u001b[0m \u001b[0;32min\u001b[0m \u001b[0mself\u001b[0m\u001b[0;34m.\u001b[0m\u001b[0minstructions\u001b[0m\u001b[0;34m]\u001b[0m\u001b[0;34m\u001b[0m\u001b[0;34m\u001b[0m\u001b[0m\n\u001b[0m\u001b[1;32m   1175\u001b[0m \u001b[0;34m\u001b[0m\u001b[0m\n\u001b[1;32m   1176\u001b[0m     \u001b[0;32mdef\u001b[0m \u001b[0mreplace\u001b[0m\u001b[0;34m(\u001b[0m\u001b[0mself\u001b[0m\u001b[0;34m,\u001b[0m \u001b[0mold\u001b[0m\u001b[0;34m,\u001b[0m \u001b[0mnew\u001b[0m\u001b[0;34m)\u001b[0m\u001b[0;34m:\u001b[0m\u001b[0;34m\u001b[0m\u001b[0;34m\u001b[0m\u001b[0m\n",
            "\u001b[0;31mKeyboardInterrupt\u001b[0m: "
          ]
        }
      ],
      "source": [
        "import librosa\n",
        "import librosa.display\n",
        "import matplotlib.pyplot as plt\n",
        "import numpy as np\n",
        "\n",
        "def display_waveform_and_spectrogram(audio_path):\n",
        "    # Load audio file with downsampling for faster processing\n",
        "    y, sr = librosa.load(audio_path, sr=22050)  # Downsampled to 22.05 kHz\n",
        "\n",
        "    # Optionally select a shorter segment of the audio (e.g., first 30 seconds)\n",
        "    y = y[:30 * sr]  # First 30 seconds\n",
        "\n",
        "    # Create a figure for the plots\n",
        "    plt.figure(figsize=(14, 8))\n",
        "\n",
        "    # Plot waveform\n",
        "    plt.subplot(2, 1, 1)\n",
        "    librosa.display.waveshow(y, sr=sr)\n",
        "    plt.title('Waveform')\n",
        "    plt.xlabel('Time (s)')\n",
        "    plt.ylabel('Amplitude')\n",
        "\n",
        "    # Compute the spectrogram with smaller n_fft and hop_length for faster computation\n",
        "    S = librosa.stft(y, n_fft=1024, hop_length=512)\n",
        "    S_db = librosa.amplitude_to_db(np.abs(S), ref=np.max)\n",
        "\n",
        "    # Plot spectrogram with y-axis in kHz\n",
        "    plt.subplot(2, 1, 2)\n",
        "    librosa.display.specshow(S_db, sr=sr, x_axis='time', y_axis='log', cmap='magma')\n",
        "\n",
        "    # Convert Hz to kHz by adjusting the colorbar label\n",
        "    cbar = plt.colorbar(format='%+2.0f dB')\n",
        "    cbar.set_label('Intensity (dB)')\n",
        "\n",
        "    plt.title('Spectrogram (dB)')\n",
        "    plt.xlabel('Time (s)')\n",
        "    plt.ylabel('Frequency (kHz)')\n",
        "\n",
        "    # Display both plots\n",
        "    plt.tight_layout()\n",
        "    plt.show()\n",
        "\n",
        "# User Input: Provide the path to your audio file\n",
        "audio_file_path = '/content/drive/MyDrive/Cat Song Meter Recordings (1)/Amur Leopard/Dec 15 - Dec 21 7257 inside/SMM07257_20221222_023502.wav'\n",
        "\n",
        "# Call the function to display the waveform and spectrogram\n",
        "display_waveform_and_spectrogram(audio_file_path)"
      ]
    }
  ],
  "metadata": {
    "colab": {
      "provenance": [],
      "collapsed_sections": [
        "akDCPh9FSgaD"
      ]
    },
    "kernelspec": {
      "display_name": "Python 3",
      "name": "python3"
    },
    "language_info": {
      "name": "python"
    }
  },
  "nbformat": 4,
  "nbformat_minor": 0
}