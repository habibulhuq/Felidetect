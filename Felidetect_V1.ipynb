{
  "cells": [
    {
      "cell_type": "code",
      "execution_count": null,
      "metadata": {
        "colab": {
          "base_uri": "https://localhost:8080/"
        },
        "id": "8c-bOfXrXvqb",
        "outputId": "442664e8-23d5-4dc4-df44-074b6e24ed07"
      },
      "outputs": [
        {
          "output_type": "stream",
          "name": "stdout",
          "text": [
            "Collecting auditok\n",
            "  Downloading auditok-0.2.0-py3-none-any.whl.metadata (5.5 kB)\n",
            "Downloading auditok-0.2.0-py3-none-any.whl (1.5 MB)\n",
            "\u001b[2K   \u001b[90m━━━━━━━━━━━━━━━━━━━━━━━━━━━━━━━━━━━━━━━━\u001b[0m \u001b[32m1.5/1.5 MB\u001b[0m \u001b[31m13.8 MB/s\u001b[0m eta \u001b[36m0:00:00\u001b[0m\n",
            "\u001b[?25hInstalling collected packages: auditok\n",
            "Successfully installed auditok-0.2.0\n",
            "Collecting noisereduce\n",
            "  Downloading noisereduce-3.0.2-py3-none-any.whl.metadata (14 kB)\n",
            "Requirement already satisfied: scipy in /usr/local/lib/python3.10/dist-packages (from noisereduce) (1.13.1)\n",
            "Requirement already satisfied: matplotlib in /usr/local/lib/python3.10/dist-packages (from noisereduce) (3.7.1)\n",
            "Requirement already satisfied: librosa in /usr/local/lib/python3.10/dist-packages (from noisereduce) (0.10.2.post1)\n",
            "Requirement already satisfied: numpy in /usr/local/lib/python3.10/dist-packages (from noisereduce) (1.26.4)\n",
            "Requirement already satisfied: tqdm in /usr/local/lib/python3.10/dist-packages (from noisereduce) (4.66.5)\n",
            "Requirement already satisfied: audioread>=2.1.9 in /usr/local/lib/python3.10/dist-packages (from librosa->noisereduce) (3.0.1)\n",
            "Requirement already satisfied: scikit-learn>=0.20.0 in /usr/local/lib/python3.10/dist-packages (from librosa->noisereduce) (1.5.2)\n",
            "Requirement already satisfied: joblib>=0.14 in /usr/local/lib/python3.10/dist-packages (from librosa->noisereduce) (1.4.2)\n",
            "Requirement already satisfied: decorator>=4.3.0 in /usr/local/lib/python3.10/dist-packages (from librosa->noisereduce) (4.4.2)\n",
            "Requirement already satisfied: numba>=0.51.0 in /usr/local/lib/python3.10/dist-packages (from librosa->noisereduce) (0.60.0)\n",
            "Requirement already satisfied: soundfile>=0.12.1 in /usr/local/lib/python3.10/dist-packages (from librosa->noisereduce) (0.12.1)\n",
            "Requirement already satisfied: pooch>=1.1 in /usr/local/lib/python3.10/dist-packages (from librosa->noisereduce) (1.8.2)\n",
            "Requirement already satisfied: soxr>=0.3.2 in /usr/local/lib/python3.10/dist-packages (from librosa->noisereduce) (0.5.0.post1)\n",
            "Requirement already satisfied: typing-extensions>=4.1.1 in /usr/local/lib/python3.10/dist-packages (from librosa->noisereduce) (4.12.2)\n",
            "Requirement already satisfied: lazy-loader>=0.1 in /usr/local/lib/python3.10/dist-packages (from librosa->noisereduce) (0.4)\n",
            "Requirement already satisfied: msgpack>=1.0 in /usr/local/lib/python3.10/dist-packages (from librosa->noisereduce) (1.0.8)\n",
            "Requirement already satisfied: contourpy>=1.0.1 in /usr/local/lib/python3.10/dist-packages (from matplotlib->noisereduce) (1.3.0)\n",
            "Requirement already satisfied: cycler>=0.10 in /usr/local/lib/python3.10/dist-packages (from matplotlib->noisereduce) (0.12.1)\n",
            "Requirement already satisfied: fonttools>=4.22.0 in /usr/local/lib/python3.10/dist-packages (from matplotlib->noisereduce) (4.53.1)\n",
            "Requirement already satisfied: kiwisolver>=1.0.1 in /usr/local/lib/python3.10/dist-packages (from matplotlib->noisereduce) (1.4.7)\n",
            "Requirement already satisfied: packaging>=20.0 in /usr/local/lib/python3.10/dist-packages (from matplotlib->noisereduce) (24.1)\n",
            "Requirement already satisfied: pillow>=6.2.0 in /usr/local/lib/python3.10/dist-packages (from matplotlib->noisereduce) (10.4.0)\n",
            "Requirement already satisfied: pyparsing>=2.3.1 in /usr/local/lib/python3.10/dist-packages (from matplotlib->noisereduce) (3.1.4)\n",
            "Requirement already satisfied: python-dateutil>=2.7 in /usr/local/lib/python3.10/dist-packages (from matplotlib->noisereduce) (2.8.2)\n",
            "Requirement already satisfied: llvmlite<0.44,>=0.43.0dev0 in /usr/local/lib/python3.10/dist-packages (from numba>=0.51.0->librosa->noisereduce) (0.43.0)\n",
            "Requirement already satisfied: platformdirs>=2.5.0 in /usr/local/lib/python3.10/dist-packages (from pooch>=1.1->librosa->noisereduce) (4.3.6)\n",
            "Requirement already satisfied: requests>=2.19.0 in /usr/local/lib/python3.10/dist-packages (from pooch>=1.1->librosa->noisereduce) (2.32.3)\n",
            "Requirement already satisfied: six>=1.5 in /usr/local/lib/python3.10/dist-packages (from python-dateutil>=2.7->matplotlib->noisereduce) (1.16.0)\n",
            "Requirement already satisfied: threadpoolctl>=3.1.0 in /usr/local/lib/python3.10/dist-packages (from scikit-learn>=0.20.0->librosa->noisereduce) (3.5.0)\n",
            "Requirement already satisfied: cffi>=1.0 in /usr/local/lib/python3.10/dist-packages (from soundfile>=0.12.1->librosa->noisereduce) (1.17.1)\n",
            "Requirement already satisfied: pycparser in /usr/local/lib/python3.10/dist-packages (from cffi>=1.0->soundfile>=0.12.1->librosa->noisereduce) (2.22)\n",
            "Requirement already satisfied: charset-normalizer<4,>=2 in /usr/local/lib/python3.10/dist-packages (from requests>=2.19.0->pooch>=1.1->librosa->noisereduce) (3.3.2)\n",
            "Requirement already satisfied: idna<4,>=2.5 in /usr/local/lib/python3.10/dist-packages (from requests>=2.19.0->pooch>=1.1->librosa->noisereduce) (3.10)\n",
            "Requirement already satisfied: urllib3<3,>=1.21.1 in /usr/local/lib/python3.10/dist-packages (from requests>=2.19.0->pooch>=1.1->librosa->noisereduce) (2.2.3)\n",
            "Requirement already satisfied: certifi>=2017.4.17 in /usr/local/lib/python3.10/dist-packages (from requests>=2.19.0->pooch>=1.1->librosa->noisereduce) (2024.8.30)\n",
            "Downloading noisereduce-3.0.2-py3-none-any.whl (22 kB)\n",
            "Installing collected packages: noisereduce\n",
            "Successfully installed noisereduce-3.0.2\n"
          ]
        }
      ],
      "source": [
        "!pip install auditok\n",
        "!pip install noisereduce"
      ]
    },
    {
      "cell_type": "code",
      "execution_count": null,
      "metadata": {
        "colab": {
          "base_uri": "https://localhost:8080/"
        },
        "id": "e1Or1ZpYw07h",
        "outputId": "e1fc637b-5c9c-4330-ecf0-1e91d8244a3a"
      },
      "outputs": [
        {
          "output_type": "stream",
          "name": "stdout",
          "text": [
            "Mounted at /content/drive\n"
          ]
        }
      ],
      "source": [
        "from google.colab import drive\n",
        "drive.mount('/content/drive')"
      ]
    },
    {
      "cell_type": "code",
      "execution_count": null,
      "metadata": {
        "colab": {
          "base_uri": "https://localhost:8080/"
        },
        "id": "t9NVYMz1fRRT",
        "outputId": "3f67f7c8-6555-4498-ba81-61e0ae2594ed"
      },
      "outputs": [
        {
          "output_type": "stream",
          "name": "stdout",
          "text": [
            "Mounted at /content/drive\n"
          ]
        }
      ],
      "source": [
        "from google.colab import drive\n",
        "drive.mount('/content/drive', force_remount=True)"
      ]
    },
    {
      "cell_type": "code",
      "execution_count": null,
      "metadata": {
        "id": "469-sBrnYKCY"
      },
      "outputs": [],
      "source": [
        "import glob\n",
        "import numpy as np\n",
        "from scipy.io import wavfile\n",
        "from scipy.io.wavfile import write\n",
        "import noisereduce as nr\n",
        "import auditok\n",
        "import pandas as pd\n",
        "import datetime\n",
        "import os\n",
        "import statistics"
      ]
    },
    {
      "cell_type": "markdown",
      "source": [],
      "metadata": {
        "id": "10hi-J1FA4n2"
      }
    },
    {
      "cell_type": "code",
      "execution_count": null,
      "metadata": {
        "colab": {
          "base_uri": "https://localhost:8080/",
          "height": 35
        },
        "id": "5xYkNlDef7eL",
        "outputId": "5c347eea-b942-45fa-fe58-44f35d0a5440"
      },
      "outputs": [
        {
          "output_type": "execute_result",
          "data": {
            "text/plain": [
              "'/content'"
            ],
            "application/vnd.google.colaboratory.intrinsic+json": {
              "type": "string"
            }
          },
          "metadata": {},
          "execution_count": 7
        }
      ],
      "source": [
        "os.getcwd()"
      ]
    },
    {
      "cell_type": "markdown",
      "metadata": {
        "id": "NbY4bg-Ygbdv"
      },
      "source": [
        "Once the drive is mounted, make folder named 'data' in the content folder and store the files you want to run the pipeline on to the 'data' folder."
      ]
    },
    {
      "cell_type": "code",
      "execution_count": null,
      "metadata": {
        "colab": {
          "base_uri": "https://localhost:8080/"
        },
        "id": "Q7atmxoiYV_e",
        "outputId": "ee8fcd57-108e-4c89-f48e-61a7be15864d"
      },
      "outputs": [
        {
          "output_type": "execute_result",
          "data": {
            "text/plain": [
              "['/content/drive/MyDrive/Cat Calls Triangulation/0131 Outside Leopard 3:20-3:27/SMM10131_20240320_103949.wav',\n",
              " '/content/drive/MyDrive/Cat Calls Triangulation/0131 Outside Leopard 3:20-3:27/SMM10131_20240320_113907.wav',\n",
              " '/content/drive/MyDrive/Cat Calls Triangulation/0131 Outside Leopard 3:20-3:27/SMM10131_20240320_123902.wav',\n",
              " '/content/drive/MyDrive/Cat Calls Triangulation/0131 Outside Leopard 3:20-3:27/SMM10131_20240320_133902.wav',\n",
              " '/content/drive/MyDrive/Cat Calls Triangulation/0131 Outside Leopard 3:20-3:27/SMM10131_20240320_143902.wav',\n",
              " '/content/drive/MyDrive/Cat Calls Triangulation/0131 Outside Leopard 3:20-3:27/SMM10131_20240320_153902.wav',\n",
              " '/content/drive/MyDrive/Cat Calls Triangulation/0131 Outside Leopard 3:20-3:27/SMM10131_20240320_163902.wav',\n",
              " '/content/drive/MyDrive/Cat Calls Triangulation/0131 Outside Leopard 3:20-3:27/SMM10131_20240320_173902.wav',\n",
              " '/content/drive/MyDrive/Cat Calls Triangulation/0131 Outside Leopard 3:20-3:27/SMM10131_20240320_183902.wav',\n",
              " '/content/drive/MyDrive/Cat Calls Triangulation/0131 Outside Leopard 3:20-3:27/SMM10131_20240320_193902.wav',\n",
              " '/content/drive/MyDrive/Cat Calls Triangulation/0131 Outside Leopard 3:20-3:27/SMM10131_20240320_203902.wav',\n",
              " '/content/drive/MyDrive/Cat Calls Triangulation/0131 Outside Leopard 3:20-3:27/SMM10131_20240320_213902.wav',\n",
              " '/content/drive/MyDrive/Cat Calls Triangulation/0131 Outside Leopard 3:20-3:27/SMM10131_20240320_223902.wav',\n",
              " '/content/drive/MyDrive/Cat Calls Triangulation/0131 Outside Leopard 3:20-3:27/SMM10131_20240320_233902.wav',\n",
              " '/content/drive/MyDrive/Cat Calls Triangulation/0131 Outside Leopard 3:20-3:27/SMM10131_20240321_003902.wav',\n",
              " '/content/drive/MyDrive/Cat Calls Triangulation/0131 Outside Leopard 3:20-3:27/SMM10131_20240321_013902.wav',\n",
              " '/content/drive/MyDrive/Cat Calls Triangulation/0131 Outside Leopard 3:20-3:27/SMM10131_20240321_023902.wav',\n",
              " '/content/drive/MyDrive/Cat Calls Triangulation/0131 Outside Leopard 3:20-3:27/SMM10131_20240321_033902.wav',\n",
              " '/content/drive/MyDrive/Cat Calls Triangulation/0131 Outside Leopard 3:20-3:27/SMM10131_20240321_043902.wav',\n",
              " '/content/drive/MyDrive/Cat Calls Triangulation/0131 Outside Leopard 3:20-3:27/SMM10131_20240321_053902.wav',\n",
              " '/content/drive/MyDrive/Cat Calls Triangulation/0131 Outside Leopard 3:20-3:27/SMM10131_20240321_063902.wav',\n",
              " '/content/drive/MyDrive/Cat Calls Triangulation/0131 Outside Leopard 3:20-3:27/SMM10131_20240321_073902.wav',\n",
              " '/content/drive/MyDrive/Cat Calls Triangulation/0131 Outside Leopard 3:20-3:27/SMM10131_20240321_083902.wav',\n",
              " '/content/drive/MyDrive/Cat Calls Triangulation/0131 Outside Leopard 3:20-3:27/SMM10131_20240321_093902.wav',\n",
              " '/content/drive/MyDrive/Cat Calls Triangulation/0131 Outside Leopard 3:20-3:27/SMM10131_20240321_103902.wav',\n",
              " '/content/drive/MyDrive/Cat Calls Triangulation/0131 Outside Leopard 3:20-3:27/SMM10131_20240321_113902.wav',\n",
              " '/content/drive/MyDrive/Cat Calls Triangulation/0131 Outside Leopard 3:20-3:27/SMM10131_20240321_123902.wav',\n",
              " '/content/drive/MyDrive/Cat Calls Triangulation/0131 Outside Leopard 3:20-3:27/SMM10131_20240321_133902.wav',\n",
              " '/content/drive/MyDrive/Cat Calls Triangulation/0131 Outside Leopard 3:20-3:27/SMM10131_20240321_143902.wav',\n",
              " '/content/drive/MyDrive/Cat Calls Triangulation/0131 Outside Leopard 3:20-3:27/SMM10131_20240321_153902.wav',\n",
              " '/content/drive/MyDrive/Cat Calls Triangulation/0131 Outside Leopard 3:20-3:27/SMM10131_20240321_163902.wav',\n",
              " '/content/drive/MyDrive/Cat Calls Triangulation/0131 Outside Leopard 3:20-3:27/SMM10131_20240321_173902.wav',\n",
              " '/content/drive/MyDrive/Cat Calls Triangulation/0131 Outside Leopard 3:20-3:27/SMM10131_20240321_183902.wav',\n",
              " '/content/drive/MyDrive/Cat Calls Triangulation/0131 Outside Leopard 3:20-3:27/SMM10131_20240321_193902.wav',\n",
              " '/content/drive/MyDrive/Cat Calls Triangulation/0131 Outside Leopard 3:20-3:27/SMM10131_20240321_203902.wav',\n",
              " '/content/drive/MyDrive/Cat Calls Triangulation/0131 Outside Leopard 3:20-3:27/SMM10131_20240321_213902.wav',\n",
              " '/content/drive/MyDrive/Cat Calls Triangulation/0131 Outside Leopard 3:20-3:27/SMM10131_20240321_223902.wav',\n",
              " '/content/drive/MyDrive/Cat Calls Triangulation/0131 Outside Leopard 3:20-3:27/SMM10131_20240321_233902.wav',\n",
              " '/content/drive/MyDrive/Cat Calls Triangulation/0131 Outside Leopard 3:20-3:27/SMM10131_20240322_003902.wav',\n",
              " '/content/drive/MyDrive/Cat Calls Triangulation/0131 Outside Leopard 3:20-3:27/SMM10131_20240322_013902.wav',\n",
              " '/content/drive/MyDrive/Cat Calls Triangulation/0131 Outside Leopard 3:20-3:27/SMM10131_20240322_023902.wav',\n",
              " '/content/drive/MyDrive/Cat Calls Triangulation/0131 Outside Leopard 3:20-3:27/SMM10131_20240322_033902.wav',\n",
              " '/content/drive/MyDrive/Cat Calls Triangulation/0131 Outside Leopard 3:20-3:27/SMM10131_20240322_043902.wav',\n",
              " '/content/drive/MyDrive/Cat Calls Triangulation/0131 Outside Leopard 3:20-3:27/SMM10131_20240322_053902.wav',\n",
              " '/content/drive/MyDrive/Cat Calls Triangulation/0131 Outside Leopard 3:20-3:27/SMM10131_20240322_063902.wav',\n",
              " '/content/drive/MyDrive/Cat Calls Triangulation/0131 Outside Leopard 3:20-3:27/SMM10131_20240322_073902.wav',\n",
              " '/content/drive/MyDrive/Cat Calls Triangulation/0131 Outside Leopard 3:20-3:27/SMM10131_20240322_083902.wav',\n",
              " '/content/drive/MyDrive/Cat Calls Triangulation/0131 Outside Leopard 3:20-3:27/SMM10131_20240322_093902.wav',\n",
              " '/content/drive/MyDrive/Cat Calls Triangulation/0131 Outside Leopard 3:20-3:27/SMM10131_20240322_103902.wav',\n",
              " '/content/drive/MyDrive/Cat Calls Triangulation/0131 Outside Leopard 3:20-3:27/SMM10131_20240322_113902.wav',\n",
              " '/content/drive/MyDrive/Cat Calls Triangulation/0131 Outside Leopard 3:20-3:27/SMM10131_20240322_123902.wav',\n",
              " '/content/drive/MyDrive/Cat Calls Triangulation/0131 Outside Leopard 3:20-3:27/SMM10131_20240322_133902.wav',\n",
              " '/content/drive/MyDrive/Cat Calls Triangulation/0131 Outside Leopard 3:20-3:27/SMM10131_20240322_143902.wav',\n",
              " '/content/drive/MyDrive/Cat Calls Triangulation/0131 Outside Leopard 3:20-3:27/SMM10131_20240322_153902.wav',\n",
              " '/content/drive/MyDrive/Cat Calls Triangulation/0131 Outside Leopard 3:20-3:27/SMM10131_20240322_163902.wav',\n",
              " '/content/drive/MyDrive/Cat Calls Triangulation/0131 Outside Leopard 3:20-3:27/SMM10131_20240322_173902.wav',\n",
              " '/content/drive/MyDrive/Cat Calls Triangulation/0131 Outside Leopard 3:20-3:27/SMM10131_20240322_183902.wav',\n",
              " '/content/drive/MyDrive/Cat Calls Triangulation/0131 Outside Leopard 3:20-3:27/SMM10131_20240322_193902.wav',\n",
              " '/content/drive/MyDrive/Cat Calls Triangulation/0131 Outside Leopard 3:20-3:27/SMM10131_20240322_203902.wav',\n",
              " '/content/drive/MyDrive/Cat Calls Triangulation/0131 Outside Leopard 3:20-3:27/SMM10131_20240322_213902.wav',\n",
              " '/content/drive/MyDrive/Cat Calls Triangulation/0131 Outside Leopard 3:20-3:27/SMM10131_20240322_223902.wav',\n",
              " '/content/drive/MyDrive/Cat Calls Triangulation/0131 Outside Leopard 3:20-3:27/SMM10131_20240322_233902.wav',\n",
              " '/content/drive/MyDrive/Cat Calls Triangulation/0131 Outside Leopard 3:20-3:27/SMM10131_20240323_003902.wav',\n",
              " '/content/drive/MyDrive/Cat Calls Triangulation/0131 Outside Leopard 3:20-3:27/SMM10131_20240323_013902.wav',\n",
              " '/content/drive/MyDrive/Cat Calls Triangulation/0131 Outside Leopard 3:20-3:27/SMM10131_20240323_023902.wav',\n",
              " '/content/drive/MyDrive/Cat Calls Triangulation/0131 Outside Leopard 3:20-3:27/SMM10131_20240323_033902.wav',\n",
              " '/content/drive/MyDrive/Cat Calls Triangulation/0131 Outside Leopard 3:20-3:27/SMM10131_20240323_043902.wav',\n",
              " '/content/drive/MyDrive/Cat Calls Triangulation/0131 Outside Leopard 3:20-3:27/SMM10131_20240323_053902.wav',\n",
              " '/content/drive/MyDrive/Cat Calls Triangulation/0131 Outside Leopard 3:20-3:27/SMM10131_20240323_063902.wav',\n",
              " '/content/drive/MyDrive/Cat Calls Triangulation/0131 Outside Leopard 3:20-3:27/SMM10131_20240323_073902.wav',\n",
              " '/content/drive/MyDrive/Cat Calls Triangulation/0131 Outside Leopard 3:20-3:27/SMM10131_20240323_083902.wav',\n",
              " '/content/drive/MyDrive/Cat Calls Triangulation/0131 Outside Leopard 3:20-3:27/SMM10131_20240323_093902.wav',\n",
              " '/content/drive/MyDrive/Cat Calls Triangulation/0131 Outside Leopard 3:20-3:27/SMM10131_20240323_103902.wav',\n",
              " '/content/drive/MyDrive/Cat Calls Triangulation/0131 Outside Leopard 3:20-3:27/SMM10131_20240323_113902.wav',\n",
              " '/content/drive/MyDrive/Cat Calls Triangulation/0131 Outside Leopard 3:20-3:27/SMM10131_20240323_123902.wav',\n",
              " '/content/drive/MyDrive/Cat Calls Triangulation/0131 Outside Leopard 3:20-3:27/SMM10131_20240323_133902.wav',\n",
              " '/content/drive/MyDrive/Cat Calls Triangulation/0131 Outside Leopard 3:20-3:27/SMM10131_20240323_143902.wav',\n",
              " '/content/drive/MyDrive/Cat Calls Triangulation/0131 Outside Leopard 3:20-3:27/SMM10131_20240323_153902.wav',\n",
              " '/content/drive/MyDrive/Cat Calls Triangulation/0131 Outside Leopard 3:20-3:27/SMM10131_20240323_163902.wav',\n",
              " '/content/drive/MyDrive/Cat Calls Triangulation/0131 Outside Leopard 3:20-3:27/SMM10131_20240323_173902.wav',\n",
              " '/content/drive/MyDrive/Cat Calls Triangulation/0131 Outside Leopard 3:20-3:27/SMM10131_20240323_183902.wav',\n",
              " '/content/drive/MyDrive/Cat Calls Triangulation/0131 Outside Leopard 3:20-3:27/SMM10131_20240323_193902.wav',\n",
              " '/content/drive/MyDrive/Cat Calls Triangulation/0131 Outside Leopard 3:20-3:27/SMM10131_20240323_203902.wav',\n",
              " '/content/drive/MyDrive/Cat Calls Triangulation/0131 Outside Leopard 3:20-3:27/SMM10131_20240323_213902.wav',\n",
              " '/content/drive/MyDrive/Cat Calls Triangulation/0131 Outside Leopard 3:20-3:27/SMM10131_20240323_223902.wav',\n",
              " '/content/drive/MyDrive/Cat Calls Triangulation/0131 Outside Leopard 3:20-3:27/SMM10131_20240323_233902.wav',\n",
              " '/content/drive/MyDrive/Cat Calls Triangulation/0131 Outside Leopard 3:20-3:27/SMM10131_20240324_003902.wav',\n",
              " '/content/drive/MyDrive/Cat Calls Triangulation/0131 Outside Leopard 3:20-3:27/SMM10131_20240324_013902.wav',\n",
              " '/content/drive/MyDrive/Cat Calls Triangulation/0131 Outside Leopard 3:20-3:27/SMM10131_20240324_023902.wav',\n",
              " '/content/drive/MyDrive/Cat Calls Triangulation/0131 Outside Leopard 3:20-3:27/SMM10131_20240324_033902.wav',\n",
              " '/content/drive/MyDrive/Cat Calls Triangulation/0131 Outside Leopard 3:20-3:27/SMM10131_20240324_043902.wav',\n",
              " '/content/drive/MyDrive/Cat Calls Triangulation/0131 Outside Leopard 3:20-3:27/SMM10131_20240324_053902.wav',\n",
              " '/content/drive/MyDrive/Cat Calls Triangulation/0131 Outside Leopard 3:20-3:27/SMM10131_20240324_063902.wav',\n",
              " '/content/drive/MyDrive/Cat Calls Triangulation/0131 Outside Leopard 3:20-3:27/SMM10131_20240324_073902.wav',\n",
              " '/content/drive/MyDrive/Cat Calls Triangulation/0131 Outside Leopard 3:20-3:27/SMM10131_20240324_083902.wav',\n",
              " '/content/drive/MyDrive/Cat Calls Triangulation/0131 Outside Leopard 3:20-3:27/SMM10131_20240324_093902.wav',\n",
              " '/content/drive/MyDrive/Cat Calls Triangulation/0131 Outside Leopard 3:20-3:27/SMM10131_20240324_103902.wav',\n",
              " '/content/drive/MyDrive/Cat Calls Triangulation/0131 Outside Leopard 3:20-3:27/SMM10131_20240324_113902.wav',\n",
              " '/content/drive/MyDrive/Cat Calls Triangulation/0131 Outside Leopard 3:20-3:27/SMM10131_20240324_123902.wav',\n",
              " '/content/drive/MyDrive/Cat Calls Triangulation/0131 Outside Leopard 3:20-3:27/SMM10131_20240324_133902.wav',\n",
              " '/content/drive/MyDrive/Cat Calls Triangulation/0131 Outside Leopard 3:20-3:27/SMM10131_20240324_143902.wav',\n",
              " '/content/drive/MyDrive/Cat Calls Triangulation/0131 Outside Leopard 3:20-3:27/SMM10131_20240324_153902.wav',\n",
              " '/content/drive/MyDrive/Cat Calls Triangulation/0131 Outside Leopard 3:20-3:27/SMM10131_20240324_163902.wav',\n",
              " '/content/drive/MyDrive/Cat Calls Triangulation/0131 Outside Leopard 3:20-3:27/SMM10131_20240324_173902.wav',\n",
              " '/content/drive/MyDrive/Cat Calls Triangulation/0131 Outside Leopard 3:20-3:27/SMM10131_20240324_183902.wav',\n",
              " '/content/drive/MyDrive/Cat Calls Triangulation/0131 Outside Leopard 3:20-3:27/SMM10131_20240324_193902.wav',\n",
              " '/content/drive/MyDrive/Cat Calls Triangulation/0131 Outside Leopard 3:20-3:27/SMM10131_20240324_203902.wav',\n",
              " '/content/drive/MyDrive/Cat Calls Triangulation/0131 Outside Leopard 3:20-3:27/SMM10131_20240324_213902.wav',\n",
              " '/content/drive/MyDrive/Cat Calls Triangulation/0131 Outside Leopard 3:20-3:27/SMM10131_20240324_223902.wav',\n",
              " '/content/drive/MyDrive/Cat Calls Triangulation/0131 Outside Leopard 3:20-3:27/SMM10131_20240324_233902.wav',\n",
              " '/content/drive/MyDrive/Cat Calls Triangulation/0131 Outside Leopard 3:20-3:27/SMM10131_20240325_003902.wav',\n",
              " '/content/drive/MyDrive/Cat Calls Triangulation/0131 Outside Leopard 3:20-3:27/SMM10131_20240325_013902.wav',\n",
              " '/content/drive/MyDrive/Cat Calls Triangulation/0131 Outside Leopard 3:20-3:27/SMM10131_20240325_023902.wav',\n",
              " '/content/drive/MyDrive/Cat Calls Triangulation/0131 Outside Leopard 3:20-3:27/SMM10131_20240325_033902.wav',\n",
              " '/content/drive/MyDrive/Cat Calls Triangulation/0131 Outside Leopard 3:20-3:27/SMM10131_20240325_043902.wav',\n",
              " '/content/drive/MyDrive/Cat Calls Triangulation/0131 Outside Leopard 3:20-3:27/SMM10131_20240325_053902.wav',\n",
              " '/content/drive/MyDrive/Cat Calls Triangulation/0131 Outside Leopard 3:20-3:27/SMM10131_20240325_063902.wav',\n",
              " '/content/drive/MyDrive/Cat Calls Triangulation/0131 Outside Leopard 3:20-3:27/SMM10131_20240325_073902.wav',\n",
              " '/content/drive/MyDrive/Cat Calls Triangulation/0131 Outside Leopard 3:20-3:27/SMM10131_20240325_083902.wav',\n",
              " '/content/drive/MyDrive/Cat Calls Triangulation/0131 Outside Leopard 3:20-3:27/SMM10131_20240325_093902.wav',\n",
              " '/content/drive/MyDrive/Cat Calls Triangulation/0131 Outside Leopard 3:20-3:27/SMM10131_20240325_103902.wav',\n",
              " '/content/drive/MyDrive/Cat Calls Triangulation/0131 Outside Leopard 3:20-3:27/SMM10131_20240325_113902.wav',\n",
              " '/content/drive/MyDrive/Cat Calls Triangulation/0131 Outside Leopard 3:20-3:27/SMM10131_20240325_123902.wav',\n",
              " '/content/drive/MyDrive/Cat Calls Triangulation/0131 Outside Leopard 3:20-3:27/SMM10131_20240325_133902.wav',\n",
              " '/content/drive/MyDrive/Cat Calls Triangulation/0131 Outside Leopard 3:20-3:27/SMM10131_20240325_143902.wav',\n",
              " '/content/drive/MyDrive/Cat Calls Triangulation/0131 Outside Leopard 3:20-3:27/SMM10131_20240325_153902.wav',\n",
              " '/content/drive/MyDrive/Cat Calls Triangulation/0131 Outside Leopard 3:20-3:27/SMM10131_20240325_163902.wav',\n",
              " '/content/drive/MyDrive/Cat Calls Triangulation/0131 Outside Leopard 3:20-3:27/SMM10131_20240325_173902.wav',\n",
              " '/content/drive/MyDrive/Cat Calls Triangulation/0131 Outside Leopard 3:20-3:27/SMM10131_20240325_183902.wav',\n",
              " '/content/drive/MyDrive/Cat Calls Triangulation/0131 Outside Leopard 3:20-3:27/SMM10131_20240325_193902.wav',\n",
              " '/content/drive/MyDrive/Cat Calls Triangulation/0131 Outside Leopard 3:20-3:27/SMM10131_20240325_203902.wav',\n",
              " '/content/drive/MyDrive/Cat Calls Triangulation/0131 Outside Leopard 3:20-3:27/SMM10131_20240325_213902.wav',\n",
              " '/content/drive/MyDrive/Cat Calls Triangulation/0131 Outside Leopard 3:20-3:27/SMM10131_20240325_223902.wav',\n",
              " '/content/drive/MyDrive/Cat Calls Triangulation/0131 Outside Leopard 3:20-3:27/SMM10131_20240325_233902.wav',\n",
              " '/content/drive/MyDrive/Cat Calls Triangulation/0131 Outside Leopard 3:20-3:27/SMM10131_20240326_003902.wav',\n",
              " '/content/drive/MyDrive/Cat Calls Triangulation/0131 Outside Leopard 3:20-3:27/SMM10131_20240326_013902.wav',\n",
              " '/content/drive/MyDrive/Cat Calls Triangulation/0131 Outside Leopard 3:20-3:27/SMM10131_20240326_023902.wav',\n",
              " '/content/drive/MyDrive/Cat Calls Triangulation/0131 Outside Leopard 3:20-3:27/SMM10131_20240326_033902.wav',\n",
              " '/content/drive/MyDrive/Cat Calls Triangulation/0131 Outside Leopard 3:20-3:27/SMM10131_20240326_043902.wav',\n",
              " '/content/drive/MyDrive/Cat Calls Triangulation/0131 Outside Leopard 3:20-3:27/SMM10131_20240326_053902.wav',\n",
              " '/content/drive/MyDrive/Cat Calls Triangulation/0131 Outside Leopard 3:20-3:27/SMM10131_20240326_063902.wav',\n",
              " '/content/drive/MyDrive/Cat Calls Triangulation/0131 Outside Leopard 3:20-3:27/SMM10131_20240326_073902.wav',\n",
              " '/content/drive/MyDrive/Cat Calls Triangulation/0131 Outside Leopard 3:20-3:27/SMM10131_20240326_083902.wav',\n",
              " '/content/drive/MyDrive/Cat Calls Triangulation/0131 Outside Leopard 3:20-3:27/SMM10131_20240326_093902.wav',\n",
              " '/content/drive/MyDrive/Cat Calls Triangulation/0131 Outside Leopard 3:20-3:27/SMM10131_20240326_103902.wav',\n",
              " '/content/drive/MyDrive/Cat Calls Triangulation/0131 Outside Leopard 3:20-3:27/SMM10131_20240326_113902.wav',\n",
              " '/content/drive/MyDrive/Cat Calls Triangulation/0131 Outside Leopard 3:20-3:27/SMM10131_20240326_123902.wav',\n",
              " '/content/drive/MyDrive/Cat Calls Triangulation/0131 Outside Leopard 3:20-3:27/SMM10131_20240326_133902.wav',\n",
              " '/content/drive/MyDrive/Cat Calls Triangulation/0131 Outside Leopard 3:20-3:27/SMM10131_20240326_143902.wav',\n",
              " '/content/drive/MyDrive/Cat Calls Triangulation/0131 Outside Leopard 3:20-3:27/SMM10131_20240326_153902.wav',\n",
              " '/content/drive/MyDrive/Cat Calls Triangulation/0131 Outside Leopard 3:20-3:27/SMM10131_20240326_163902.wav',\n",
              " '/content/drive/MyDrive/Cat Calls Triangulation/0131 Outside Leopard 3:20-3:27/SMM10131_20240326_173902.wav',\n",
              " '/content/drive/MyDrive/Cat Calls Triangulation/0131 Outside Leopard 3:20-3:27/SMM10131_20240326_183902.wav',\n",
              " '/content/drive/MyDrive/Cat Calls Triangulation/0131 Outside Leopard 3:20-3:27/SMM10131_20240326_193902.wav',\n",
              " '/content/drive/MyDrive/Cat Calls Triangulation/0131 Outside Leopard 3:20-3:27/SMM10131_20240326_203902.wav',\n",
              " '/content/drive/MyDrive/Cat Calls Triangulation/0131 Outside Leopard 3:20-3:27/SMM10131_20240326_213902.wav',\n",
              " '/content/drive/MyDrive/Cat Calls Triangulation/0131 Outside Leopard 3:20-3:27/SMM10131_20240326_223902.wav',\n",
              " '/content/drive/MyDrive/Cat Calls Triangulation/0131 Outside Leopard 3:20-3:27/SMM10131_20240326_233902.wav',\n",
              " '/content/drive/MyDrive/Cat Calls Triangulation/0131 Outside Leopard 3:20-3:27/SMM10131_20240327_013902.wav',\n",
              " '/content/drive/MyDrive/Cat Calls Triangulation/0131 Outside Leopard 3:20-3:27/SMM10131_20240327_003902.wav']"
            ]
          },
          "metadata": {},
          "execution_count": 10
        }
      ],
      "source": [
        "#extracts path for .wav files\n",
        "file_list = glob.glob('/content/drive/MyDrive/Cat Calls Triangulation/0131 Outside Leopard 3:20-3:27/*.wav')\n",
        "file_list"
      ]
    },
    {
      "cell_type": "code",
      "source": [
        "for file in file_list:\n",
        "  filename = file[-28:-4]\n",
        "  print(filename)"
      ],
      "metadata": {
        "colab": {
          "base_uri": "https://localhost:8080/"
        },
        "id": "kL0dp1huCqPQ",
        "outputId": "190167e7-cd54-4afc-9f36-d6d90e7515e3"
      },
      "execution_count": null,
      "outputs": [
        {
          "output_type": "stream",
          "name": "stdout",
          "text": [
            "31 Outside Leopard 3:20-\n"
          ]
        }
      ]
    },
    {
      "cell_type": "code",
      "execution_count": null,
      "metadata": {
        "id": "wNL3x5LtYWDq",
        "colab": {
          "base_uri": "https://localhost:8080/"
        },
        "outputId": "c9fdbd6e-69bd-40af-dbc6-df6a685630c1"
      },
      "outputs": [
        {
          "output_type": "stream",
          "name": "stderr",
          "text": [
            "<ipython-input-7-9b3aee546046>:4: WavFileWarning: Chunk (non-data) not understood, skipping it.\n",
            "  rate, data = wavfile.read(file)\n"
          ]
        }
      ],
      "source": [
        "# iterates over .wav files and eliminates background noise\n",
        "# saves modified audio in the following format --> filename_reduced.wav\n",
        "for file in file_list:\n",
        "    rate, data = wavfile.read(file)\n",
        "    filename = file[-28:-4]\n",
        "    directory = \"data/\"\n",
        "    # perform noise reduction\n",
        "    reduced_noise = nr.reduce_noise(y=data, sr=rate)\n",
        "    new_name = filename + \"_reduced.wav\"\n",
        "    write(directory+new_name, rate, reduced_noise)\n"
      ]
    },
    {
      "cell_type": "code",
      "execution_count": null,
      "metadata": {
        "id": "O-oKu8wYZHja",
        "colab": {
          "base_uri": "https://localhost:8080/"
        },
        "outputId": "bb63217f-26ac-4e6b-f02f-d460f67a0541"
      },
      "outputs": [
        {
          "output_type": "execute_result",
          "data": {
            "text/plain": [
              "['data/SMM10131_20240320_103949_reduced.wav']"
            ]
          },
          "metadata": {},
          "execution_count": 8
        }
      ],
      "source": [
        "#extracts path for .wav files that have no background noise\n",
        "audio_list = glob.glob('data/*_reduced.wav')\n",
        "audio_list"
      ]
    },
    {
      "cell_type": "code",
      "execution_count": null,
      "metadata": {
        "id": "IvOuer4JZHq6"
      },
      "outputs": [],
      "source": [
        "# for each .wav file, extracts regions of interest and saves them as clips\n",
        "def audio_pipeline(file, dataset):\n",
        "    filename = file[5:-4]\n",
        "    #os.mkdir(\"data//\"+filename)\n",
        "    os.makedirs(\"data//\"+filename,exist_ok=True)\n",
        "    audio_regions = auditok.split(file,\n",
        "                                  min_dur=0.2,        # minimum duration of a valid audio event in seconds\n",
        "                                  max_dur=0.5,        # maximum duration of an event\n",
        "                                  max_silence=0.3,    # maximum duration of tolerated continuous silence within an event\n",
        "                                  energy_threshold=60 # threshold of detection\n",
        "                                 )\n",
        "\n",
        "    average_n_calls = 0\n",
        "    curr = 5\n",
        "    curr_count = 0\n",
        "    count_list = []\n",
        "\n",
        "    for i, r in enumerate(audio_regions):\n",
        "        #print(\"Region {i}: {r.meta.start:.3f}s -- {r.meta.end:.3f}s\".format(i=i, r=r))\n",
        "        region = i\n",
        "        start = str(datetime.timedelta(seconds=r.meta.start))\n",
        "        end = str(datetime.timedelta(seconds=r.meta.end))\n",
        "\n",
        "        #\n",
        "\n",
        "        dur = r.meta.end - r.meta.start\n",
        "        if dur < 0.04:\n",
        "          print(f\"Skipped, duration = {dur}\")\n",
        "          continue\n",
        "\n",
        "        #\n",
        "\n",
        "        if r.meta.start < curr:\n",
        "          curr_count += 1\n",
        "        else:\n",
        "          curr += 5\n",
        "          count_list.append(curr_count)\n",
        "          curr_count = 1\n",
        "\n",
        "        #\n",
        "\n",
        "        dataset.append([filename[:-8], i, start[:-4], end[:-4]])\n",
        "        r.save(\"data//\" + filename + \"//region_{meta.start:.3f}-{meta.end:.3f}.wav\")\n",
        "\n",
        "    print(f\"{filename[:-8]}\")\n",
        "    print(f\"Avg/5sec : {statistics.fmean(count_list)}\")\n",
        "    print(f\"Total no. of Detected Saw Calls: {sum(count_list)}\")\n",
        "    print(\" \")\n",
        "\n",
        "        #347"
      ]
    },
    {
      "cell_type": "code",
      "execution_count": null,
      "metadata": {
        "id": "2oOCdhKCZHti",
        "colab": {
          "base_uri": "https://localhost:8080/"
        },
        "outputId": "0d886f91-f2d5-4c63-f7e9-ca399289132c"
      },
      "outputs": [
        {
          "output_type": "stream",
          "name": "stdout",
          "text": [
            "SMM10131_20240320_103949\n",
            "Avg/5sec : 1.198501872659176\n",
            "Total no. of Detected Saw Calls: 320\n",
            " \n"
          ]
        }
      ],
      "source": [
        "dataset = []\n",
        "# iterating over all noise reduced files and applying the above function on each\n",
        "for file in audio_list:\n",
        "    audio_pipeline(file, dataset)"
      ]
    },
    {
      "cell_type": "code",
      "execution_count": null,
      "metadata": {
        "id": "R-Cp570MYWGO"
      },
      "outputs": [],
      "source": [
        "# saves results into an excel file\n",
        "df = pd.DataFrame(dataset, columns=['File', 'Region', 'Start Time', 'End Time'])\n",
        "df.to_excel(\"data//output.xlsx\")"
      ]
    }
  ],
  "metadata": {
    "colab": {
      "provenance": []
    },
    "kernelspec": {
      "display_name": "Python 3",
      "name": "python3"
    },
    "language_info": {
      "name": "python"
    }
  },
  "nbformat": 4,
  "nbformat_minor": 0
}